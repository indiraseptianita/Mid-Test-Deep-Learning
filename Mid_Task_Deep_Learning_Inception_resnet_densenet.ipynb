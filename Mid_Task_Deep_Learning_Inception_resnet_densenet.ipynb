{
  "cells": [
    {
      "cell_type": "code",
      "execution_count": 1,
      "metadata": {
        "colab": {
          "base_uri": "https://localhost:8080/"
        },
        "id": "d6630443",
        "outputId": "073a394d-6e73-4eda-c8e2-bc3cf08e3625"
      },
      "outputs": [
        {
          "output_type": "stream",
          "name": "stdout",
          "text": [
            "\u001b[K     |████████████████████████████████| 582 kB 5.5 MB/s \n",
            "\u001b[K     |████████████████████████████████| 804.1 MB 2.7 kB/s \n",
            "\u001b[K     |████████████████████████████████| 408 kB 38.6 MB/s \n",
            "\u001b[K     |████████████████████████████████| 136 kB 43.1 MB/s \n",
            "\u001b[K     |████████████████████████████████| 596 kB 46.5 MB/s \n",
            "\u001b[K     |████████████████████████████████| 1.1 MB 48.0 MB/s \n",
            "\u001b[K     |████████████████████████████████| 21.0 MB 1.3 MB/s \n",
            "\u001b[K     |████████████████████████████████| 23.2 MB 7.0 MB/s \n",
            "\u001b[K     |████████████████████████████████| 23.3 MB 64.2 MB/s \n",
            "\u001b[K     |████████████████████████████████| 23.3 MB 60.2 MB/s \n",
            "\u001b[K     |████████████████████████████████| 22.1 MB 5.7 MB/s \n",
            "\u001b[K     |████████████████████████████████| 22.1 MB 1.2 MB/s \n",
            "\u001b[K     |████████████████████████████████| 17.4 MB 182 kB/s \n",
            "\u001b[K     |████████████████████████████████| 144 kB 45.2 MB/s \n",
            "\u001b[K     |████████████████████████████████| 94 kB 2.9 MB/s \n",
            "\u001b[K     |████████████████████████████████| 271 kB 47.0 MB/s \n",
            "\u001b[31mERROR: pip's dependency resolver does not currently take into account all the packages that are installed. This behaviour is the source of the following dependency conflicts.\n",
            "torchtext 0.12.0 requires torch==1.11.0, but you have torch 1.8.1 which is incompatible.\n",
            "torchaudio 0.11.0+cu113 requires torch==1.11.0, but you have torch 1.8.1 which is incompatible.\u001b[0m\n",
            "\u001b[?25h"
          ]
        }
      ],
      "source": [
        "! pip install --quiet \"pytorch-lightning>=1.3\" \"matplotlib\" \"ipython[notebook]\" \"torch>=1.6, <1.9\" \"torchvision\" \"seaborn\" \"torchmetrics>=0.3\" \"tabulate\""
      ],
      "id": "d6630443"
    },
    {
      "cell_type": "code",
      "execution_count": 2,
      "metadata": {
        "id": "e42aa711"
      },
      "outputs": [],
      "source": [
        "import os\n",
        "import urllib.request\n",
        "from types import SimpleNamespace\n",
        "from urllib.error import HTTPError\n",
        "\n",
        "import matplotlib\n",
        "import matplotlib.pyplot as plt\n",
        "import numpy as np\n",
        "import pytorch_lightning as pl\n",
        "import seaborn as sns\n",
        "import tabulate\n",
        "import torch\n",
        "import torch.nn as nn\n",
        "import torch.optim as optim\n",
        "import torch.utils.data as data\n",
        "import torchvision\n",
        "\n",
        "%matplotlib inline\n",
        "from IPython.display import HTML, display, set_matplotlib_formats\n",
        "from PIL import Image\n",
        "from pytorch_lightning.callbacks import LearningRateMonitor, ModelCheckpoint\n",
        "from torchvision import transforms\n",
        "from torchvision.datasets import CIFAR10\n",
        "\n",
        "set_matplotlib_formats(\"svg\", \"pdf\")  # For export\n",
        "matplotlib.rcParams[\"lines.linewidth\"] = 2.0\n",
        "sns.reset_orig()\n",
        "\n",
        "# PyTorch\n",
        "# Torchvision"
      ],
      "id": "e42aa711"
    },
    {
      "cell_type": "markdown",
      "metadata": {
        "id": "38ee035d"
      },
      "source": [
        "We will use the same `set_seed` function as in the previous tutorials, as well as the path variables `DATASET_PATH` and `CHECKPOINT_PATH`.\n",
        "Adjust the paths if necessary."
      ],
      "id": "38ee035d"
    },
    {
      "cell_type": "code",
      "execution_count": 3,
      "metadata": {
        "colab": {
          "base_uri": "https://localhost:8080/"
        },
        "id": "cbe94036",
        "outputId": "3641c023-92d6-4ab6-a018-f5630c761ede"
      },
      "outputs": [
        {
          "output_type": "stream",
          "name": "stderr",
          "text": [
            "Global seed set to 42\n"
          ]
        }
      ],
      "source": [
        "# Path to the folder where the datasets are/should be downloaded (e.g. CIFAR10)\n",
        "DATASET_PATH = os.environ.get(\"PATH_DATASETS\", \"data/\")\n",
        "# Path to the folder where the pretrained models are saved\n",
        "CHECKPOINT_PATH = os.environ.get(\"PATH_CHECKPOINT\", \"saved_models/ConvNets\")\n",
        "\n",
        "\n",
        "# Function for setting the seed\n",
        "pl.seed_everything(42)\n",
        "\n",
        "# Ensure that all operations are deterministic on GPU (if used) for reproducibility\n",
        "torch.backends.cudnn.determinstic = True\n",
        "torch.backends.cudnn.benchmark = False\n",
        "\n",
        "device = torch.device(\"cuda:0\") if torch.cuda.is_available() else torch.device(\"cpu\")"
      ],
      "id": "cbe94036"
    },
    {
      "cell_type": "markdown",
      "metadata": {
        "id": "76bdcd69"
      },
      "source": [
        "We also have pretrained models and Tensorboards (more on this later) for this tutorial, and download them below."
      ],
      "id": "76bdcd69"
    },
    {
      "cell_type": "code",
      "execution_count": 4,
      "metadata": {
        "colab": {
          "base_uri": "https://localhost:8080/"
        },
        "id": "9fae784c",
        "outputId": "7192e891-1501-49d4-c2f5-4b1c55f95ce4"
      },
      "outputs": [
        {
          "output_type": "stream",
          "name": "stdout",
          "text": [
            "Downloading https://raw.githubusercontent.com/phlippe/saved_models/main/tutorial5/GoogleNet.ckpt...\n",
            "Downloading https://raw.githubusercontent.com/phlippe/saved_models/main/tutorial5/ResNet.ckpt...\n",
            "Downloading https://raw.githubusercontent.com/phlippe/saved_models/main/tutorial5/ResNetPreAct.ckpt...\n",
            "Downloading https://raw.githubusercontent.com/phlippe/saved_models/main/tutorial5/DenseNet.ckpt...\n",
            "Downloading https://raw.githubusercontent.com/phlippe/saved_models/main/tutorial5/tensorboards/GoogleNet/events.out.tfevents.googlenet...\n",
            "Downloading https://raw.githubusercontent.com/phlippe/saved_models/main/tutorial5/tensorboards/ResNet/events.out.tfevents.resnet...\n",
            "Downloading https://raw.githubusercontent.com/phlippe/saved_models/main/tutorial5/tensorboards/ResNetPreAct/events.out.tfevents.resnetpreact...\n",
            "Downloading https://raw.githubusercontent.com/phlippe/saved_models/main/tutorial5/tensorboards/DenseNet/events.out.tfevents.densenet...\n"
          ]
        }
      ],
      "source": [
        "# Github URL where saved models are stored for this tutorial\n",
        "base_url = \"https://raw.githubusercontent.com/phlippe/saved_models/main/tutorial5/\"\n",
        "# Files to download\n",
        "pretrained_files = [\n",
        "    \"GoogleNet.ckpt\",\n",
        "    \"ResNet.ckpt\",\n",
        "    \"ResNetPreAct.ckpt\",\n",
        "    \"DenseNet.ckpt\",\n",
        "    \"tensorboards/GoogleNet/events.out.tfevents.googlenet\",\n",
        "    \"tensorboards/ResNet/events.out.tfevents.resnet\",\n",
        "    \"tensorboards/ResNetPreAct/events.out.tfevents.resnetpreact\",\n",
        "    \"tensorboards/DenseNet/events.out.tfevents.densenet\",\n",
        "]\n",
        "# Create checkpoint path if it doesn't exist yet\n",
        "os.makedirs(CHECKPOINT_PATH, exist_ok=True)\n",
        "\n",
        "# For each file, check whether it already exists. If not, try downloading it.\n",
        "for file_name in pretrained_files:\n",
        "    file_path = os.path.join(CHECKPOINT_PATH, file_name)\n",
        "    if \"/\" in file_name:\n",
        "        os.makedirs(file_path.rsplit(\"/\", 1)[0], exist_ok=True)\n",
        "    if not os.path.isfile(file_path):\n",
        "        file_url = base_url + file_name\n",
        "        print(f\"Downloading {file_url}...\")\n",
        "        try:\n",
        "            urllib.request.urlretrieve(file_url, file_path)\n",
        "        except HTTPError as e:\n",
        "            print(\n",
        "                \"Something went wrong. Please try to download the file from the GDrive folder, or contact the author with the full output including the following error:\\n\",\n",
        "                e,\n",
        "            )"
      ],
      "id": "9fae784c"
    },
    {
      "cell_type": "markdown",
      "metadata": {
        "id": "a0b80ac6"
      },
      "source": [
        "Selama proses ini akan di train(dilatih) dan mengevalauasi model pada dataset  CIFAR10 .\n",
        "This allows you to compare the results obtained here with the model you have implemented in the first assignment.\n",
        "As we have learned from the previous tutorial about initialization, it is important to have the data preprocessed with a zero mean.\n",
        "Therefore, as a first step, we will calculate the mean and standard deviation of the CIFAR dataset:\n",
        "\n",
        "Ini memungkinkan Anda untuk membandingkan hasil yang diperoleh di sini dengan model yang telah Anda terapkan pada tugas pertama.\n",
        "Seperti yang telah kita pelajari dari tutorial sebelumnya tentang inisialisasi, penting untuk memiliki data yang telah diproses sebelumnya dengan rata-rata nol.\n",
        "Oleh karena itu, sebagai langkah pertama, kami akan menghitung mean dan standar deviasi dari dataset CIFAR:"
      ],
      "id": "a0b80ac6"
    },
    {
      "cell_type": "code",
      "execution_count": 5,
      "metadata": {
        "colab": {
          "base_uri": "https://localhost:8080/",
          "height": 120,
          "referenced_widgets": [
            "7cf72b4d4bd84bffa856cc9b2bf801da",
            "d44b8945e2e043adbaaf2c642f7d7476",
            "98a2b378ceb149b9b4dd1f55e95bd7b6",
            "396d761c884240be8c3cc39711c99bdb",
            "28c48c7bee96470baf2bd6a558020bff",
            "58cd444774154b02a0ec37a24a31ffef",
            "a47fdacc6fd442a79eb3bb3e378d5ca8",
            "a04e5d6ac70a4a11bd9a2c6707cb2793",
            "8cf7454336444447871007f4f477ea99",
            "2f04f90189cb46cca511eb1155b0b7f8",
            "4b8d2475e8064bc2a1674d5f56654780"
          ]
        },
        "id": "9cf546f9",
        "outputId": "d78360f8-a58d-448c-afe4-431bfe10ace7"
      },
      "outputs": [
        {
          "output_type": "stream",
          "name": "stdout",
          "text": [
            "Downloading https://www.cs.toronto.edu/~kriz/cifar-10-python.tar.gz to data/cifar-10-python.tar.gz\n"
          ]
        },
        {
          "output_type": "display_data",
          "data": {
            "text/plain": [
              "  0%|          | 0/170498071 [00:00<?, ?it/s]"
            ],
            "application/vnd.jupyter.widget-view+json": {
              "version_major": 2,
              "version_minor": 0,
              "model_id": "7cf72b4d4bd84bffa856cc9b2bf801da"
            }
          },
          "metadata": {}
        },
        {
          "output_type": "stream",
          "name": "stdout",
          "text": [
            "Extracting data/cifar-10-python.tar.gz to data/\n",
            "Data mean [0.49139968 0.48215841 0.44653091]\n",
            "Data std [0.24703223 0.24348513 0.26158784]\n"
          ]
        }
      ],
      "source": [
        "train_dataset = CIFAR10(root=DATASET_PATH, train=True, download=True)\n",
        "DATA_MEANS = (train_dataset.data / 255.0).mean(axis=(0, 1, 2))\n",
        "DATA_STD = (train_dataset.data / 255.0).std(axis=(0, 1, 2))\n",
        "print(\"Data mean\", DATA_MEANS)\n",
        "print(\"Data std\", DATA_STD)"
      ],
      "id": "9cf546f9"
    },
    {
      "cell_type": "markdown",
      "metadata": {
        "id": "2c9903bd"
      },
      "source": [
        "`transforms.Normalize` yang akan menormalkan data. Selain itu, akan menggunakan augmentasi data selama pelatihan gunanya untuk mengurangi risiko overfitting dan membantu CNN untuk menggeneralisasi lebih baik.\n",
        "Secara khusus akan menerapkan dua augmentasi acak.\n",
        "\n",
        "Pertama, akan membalik setiap gambar secara horizontal dengan peluang 50% (`transforms.RandomHorizontalFlip`).\n",
        "Kelas objek biasanya tidak berubah saat membalik gambar, dan kami tidak mengharapkan informasi gambar apa pun bergantung pada orientasi horizontal.\n",
        "Namun ini akan berbeda jika kita mencoba mendeteksi angka atau huruf dalam sebuah gambar, karena mereka memiliki orientasi tertentu.\n",
        "\n",
        "Augmentasi kedua yang kami gunakan disebut `transforms.RandomResizedCrop`.\n",
        "Transformasi ini menskalakan gambar dalam rentang kecil, sementara pada akhirnya mengubah rasio aspek, dan memotongnya kemudian dalam ukuran sebelumnya.\n",
        "Oleh karena itu, nilai piksel aktual berubah sementara konten atau semantik keseluruhan gambar tetap sama.\n",
        "\n",
        "Secara acak akan membagaikan  training dataset into a training and a validation set.\n",
        "akan digunakan untuk menentukan penghentian awal. Kemudian, diiuji menggunakan model pada uji set  on the CIFAR. "
      ],
      "id": "2c9903bd"
    },
    {
      "cell_type": "code",
      "execution_count": 6,
      "metadata": {
        "colab": {
          "base_uri": "https://localhost:8080/"
        },
        "id": "90fd82cc",
        "outputId": "de630f8f-075a-49c6-d3db-c9524a79a517"
      },
      "outputs": [
        {
          "output_type": "stream",
          "name": "stdout",
          "text": [
            "Files already downloaded and verified\n",
            "Files already downloaded and verified\n"
          ]
        },
        {
          "output_type": "stream",
          "name": "stderr",
          "text": [
            "Global seed set to 42\n",
            "Global seed set to 42\n"
          ]
        },
        {
          "output_type": "stream",
          "name": "stdout",
          "text": [
            "Files already downloaded and verified\n"
          ]
        },
        {
          "output_type": "stream",
          "name": "stderr",
          "text": [
            "/usr/local/lib/python3.7/dist-packages/torch/utils/data/dataloader.py:477: UserWarning: This DataLoader will create 4 worker processes in total. Our suggested max number of worker in current system is 2, which is smaller than what this DataLoader is going to create. Please be aware that excessive worker creation might get DataLoader running slow or even freeze, lower the worker number to avoid potential slowness/freeze if necessary.\n",
            "  cpuset_checked))\n"
          ]
        }
      ],
      "source": [
        "test_transform = transforms.Compose([transforms.ToTensor(), transforms.Normalize(DATA_MEANS, DATA_STD)])\n",
        "# For training, we add some augmentation. Networks are too powerful and would overfit.\n",
        "train_transform = transforms.Compose(\n",
        "    [\n",
        "        transforms.RandomHorizontalFlip(),\n",
        "        transforms.RandomResizedCrop((32, 32), scale=(0.8, 1.0), ratio=(0.9, 1.1)),\n",
        "        transforms.ToTensor(),\n",
        "        transforms.Normalize(DATA_MEANS, DATA_STD),\n",
        "    ]\n",
        ")\n",
        "# Loading the training dataset. We need to split it into a training and validation part\n",
        "# We need to do a little trick because the validation set should not use the augmentation.\n",
        "train_dataset = CIFAR10(root=DATASET_PATH, train=True, transform=train_transform, download=True)\n",
        "val_dataset = CIFAR10(root=DATASET_PATH, train=True, transform=test_transform, download=True)\n",
        "pl.seed_everything(42)\n",
        "train_set, _ = torch.utils.data.random_split(train_dataset, [45000, 5000])\n",
        "pl.seed_everything(42)\n",
        "_, val_set = torch.utils.data.random_split(val_dataset, [45000, 5000])\n",
        "\n",
        "# Loading the test set\n",
        "test_set = CIFAR10(root=DATASET_PATH, train=False, transform=test_transform, download=True)\n",
        "\n",
        "# We define a set of data loaders that we can use for various purposes later.\n",
        "train_loader = data.DataLoader(train_set, batch_size=128, shuffle=True, drop_last=True, pin_memory=True, num_workers=4)\n",
        "val_loader = data.DataLoader(val_set, batch_size=128, shuffle=False, drop_last=False, num_workers=4)\n",
        "test_loader = data.DataLoader(test_set, batch_size=128, shuffle=False, drop_last=False, num_workers=4)"
      ],
      "id": "90fd82cc"
    },
    {
      "cell_type": "markdown",
      "metadata": {
        "id": "7abc9dfb"
      },
      "source": [
        "To verify that our normalization works, we can print out the mean and standard deviation of the single batch.\n",
        "The mean should be close to 0 and the standard deviation close to 1 for each channel:"
      ],
      "id": "7abc9dfb"
    },
    {
      "cell_type": "code",
      "execution_count": 7,
      "metadata": {
        "colab": {
          "base_uri": "https://localhost:8080/"
        },
        "id": "7444008f",
        "outputId": "d9387736-4b72-4df3-8c1f-00495969dfd9"
      },
      "outputs": [
        {
          "output_type": "stream",
          "name": "stderr",
          "text": [
            "/usr/local/lib/python3.7/dist-packages/torch/utils/data/dataloader.py:477: UserWarning: This DataLoader will create 4 worker processes in total. Our suggested max number of worker in current system is 2, which is smaller than what this DataLoader is going to create. Please be aware that excessive worker creation might get DataLoader running slow or even freeze, lower the worker number to avoid potential slowness/freeze if necessary.\n",
            "  cpuset_checked))\n"
          ]
        },
        {
          "output_type": "stream",
          "name": "stdout",
          "text": [
            "Batch mean tensor([-0.0088, -0.0180, -0.0446])\n",
            "Batch std tensor([0.9446, 0.9240, 0.9487])\n"
          ]
        }
      ],
      "source": [
        "imgs, _ = next(iter(train_loader))\n",
        "print(\"Batch mean\", imgs.mean(dim=[0, 2, 3]))\n",
        "print(\"Batch std\", imgs.std(dim=[0, 2, 3]))"
      ],
      "id": "7444008f"
    },
    {
      "cell_type": "markdown",
      "metadata": {
        "id": "6a0a74c2"
      },
      "source": [
        "Finally, let's visualize a few images from the training set, and how they look like after random data augmentation:"
      ],
      "id": "6a0a74c2"
    },
    {
      "cell_type": "code",
      "execution_count": 8,
      "metadata": {
        "colab": {
          "base_uri": "https://localhost:8080/",
          "height": 362
        },
        "id": "8446e8ab",
        "outputId": "5748e6aa-0983-4bda-c199-b2f009c666c0"
      },
      "outputs": [
        {
          "output_type": "display_data",
          "data": {
            "text/plain": [
              "<Figure size 576x576 with 1 Axes>"
            ],
            "image/svg+xml": "<?xml version=\"1.0\" encoding=\"utf-8\" standalone=\"no\"?>\n<!DOCTYPE svg PUBLIC \"-//W3C//DTD SVG 1.1//EN\"\n  \"http://www.w3.org/Graphics/SVG/1.1/DTD/svg11.dtd\">\n<!-- Created with matplotlib (https://matplotlib.org/) -->\n<svg height=\"255.952908pt\" version=\"1.1\" viewBox=\"0 0 460.8 255.952908\" width=\"460.8pt\" xmlns=\"http://www.w3.org/2000/svg\" xmlns:xlink=\"http://www.w3.org/1999/xlink\">\n <defs>\n  <style type=\"text/css\">\n*{stroke-linecap:butt;stroke-linejoin:round;}\n  </style>\n </defs>\n <g id=\"figure_1\">\n  <g id=\"patch_1\">\n   <path d=\"M 0 255.952908 \nL 460.8 255.952908 \nL 460.8 0 \nL 0 0 \nz\n\" style=\"fill:none;\"/>\n  </g>\n  <g id=\"axes_1\">\n   <g clip-path=\"url(#p31a4917d57)\">\n    <image height=\"227\" id=\"image625f3c7e2e\" transform=\"scale(1 -1)translate(0 -227)\" width=\"447\" x=\"7.2\" xlink:href=\"data:image/png;base64,\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\" y=\"-21.752908\"/>\n   </g>\n   <g id=\"text_1\">\n    <!-- Augmentation examples on CIFAR10 -->\n    <defs>\n     <path d=\"M 34.1875 63.1875 \nL 20.796875 26.90625 \nL 47.609375 26.90625 \nz\nM 28.609375 72.90625 \nL 39.796875 72.90625 \nL 67.578125 0 \nL 57.328125 0 \nL 50.6875 18.703125 \nL 17.828125 18.703125 \nL 11.1875 0 \nL 0.78125 0 \nz\n\" id=\"DejaVuSans-65\"/>\n     <path d=\"M 8.5 21.578125 \nL 8.5 54.6875 \nL 17.484375 54.6875 \nL 17.484375 21.921875 \nQ 17.484375 14.15625 20.5 10.265625 \nQ 23.53125 6.390625 29.59375 6.390625 \nQ 36.859375 6.390625 41.078125 11.03125 \nQ 45.3125 15.671875 45.3125 23.6875 \nL 45.3125 54.6875 \nL 54.296875 54.6875 \nL 54.296875 0 \nL 45.3125 0 \nL 45.3125 8.40625 \nQ 42.046875 3.421875 37.71875 1 \nQ 33.40625 -1.421875 27.6875 -1.421875 \nQ 18.265625 -1.421875 13.375 4.4375 \nQ 8.5 10.296875 8.5 21.578125 \nz\nM 31.109375 56 \nz\n\" id=\"DejaVuSans-117\"/>\n     <path d=\"M 45.40625 27.984375 \nQ 45.40625 37.75 41.375 43.109375 \nQ 37.359375 48.484375 30.078125 48.484375 \nQ 22.859375 48.484375 18.828125 43.109375 \nQ 14.796875 37.75 14.796875 27.984375 \nQ 14.796875 18.265625 18.828125 12.890625 \nQ 22.859375 7.515625 30.078125 7.515625 \nQ 37.359375 7.515625 41.375 12.890625 \nQ 45.40625 18.265625 45.40625 27.984375 \nz\nM 54.390625 6.78125 \nQ 54.390625 -7.171875 48.1875 -13.984375 \nQ 42 -20.796875 29.203125 -20.796875 \nQ 24.46875 -20.796875 20.265625 -20.09375 \nQ 16.0625 -19.390625 12.109375 -17.921875 \nL 12.109375 -9.1875 \nQ 16.0625 -11.328125 19.921875 -12.34375 \nQ 23.78125 -13.375 27.78125 -13.375 \nQ 36.625 -13.375 41.015625 -8.765625 \nQ 45.40625 -4.15625 45.40625 5.171875 \nL 45.40625 9.625 \nQ 42.625 4.78125 38.28125 2.390625 \nQ 33.9375 0 27.875 0 \nQ 17.828125 0 11.671875 7.65625 \nQ 5.515625 15.328125 5.515625 27.984375 \nQ 5.515625 40.671875 11.671875 48.328125 \nQ 17.828125 56 27.875 56 \nQ 33.9375 56 38.28125 53.609375 \nQ 42.625 51.21875 45.40625 46.390625 \nL 45.40625 54.6875 \nL 54.390625 54.6875 \nz\n\" id=\"DejaVuSans-103\"/>\n     <path d=\"M 52 44.1875 \nQ 55.375 50.25 60.0625 53.125 \nQ 64.75 56 71.09375 56 \nQ 79.640625 56 84.28125 50.015625 \nQ 88.921875 44.046875 88.921875 33.015625 \nL 88.921875 0 \nL 79.890625 0 \nL 79.890625 32.71875 \nQ 79.890625 40.578125 77.09375 44.375 \nQ 74.3125 48.1875 68.609375 48.1875 \nQ 61.625 48.1875 57.5625 43.546875 \nQ 53.515625 38.921875 53.515625 30.90625 \nL 53.515625 0 \nL 44.484375 0 \nL 44.484375 32.71875 \nQ 44.484375 40.625 41.703125 44.40625 \nQ 38.921875 48.1875 33.109375 48.1875 \nQ 26.21875 48.1875 22.15625 43.53125 \nQ 18.109375 38.875 18.109375 30.90625 \nL 18.109375 0 \nL 9.078125 0 \nL 9.078125 54.6875 \nL 18.109375 54.6875 \nL 18.109375 46.1875 \nQ 21.1875 51.21875 25.484375 53.609375 \nQ 29.78125 56 35.6875 56 \nQ 41.65625 56 45.828125 52.96875 \nQ 50 49.953125 52 44.1875 \nz\n\" id=\"DejaVuSans-109\"/>\n     <path d=\"M 56.203125 29.59375 \nL 56.203125 25.203125 \nL 14.890625 25.203125 \nQ 15.484375 15.921875 20.484375 11.0625 \nQ 25.484375 6.203125 34.421875 6.203125 \nQ 39.59375 6.203125 44.453125 7.46875 \nQ 49.3125 8.734375 54.109375 11.28125 \nL 54.109375 2.78125 \nQ 49.265625 0.734375 44.1875 -0.34375 \nQ 39.109375 -1.421875 33.890625 -1.421875 \nQ 20.796875 -1.421875 13.15625 6.1875 \nQ 5.515625 13.8125 5.515625 26.8125 \nQ 5.515625 40.234375 12.765625 48.109375 \nQ 20.015625 56 32.328125 56 \nQ 43.359375 56 49.78125 48.890625 \nQ 56.203125 41.796875 56.203125 29.59375 \nz\nM 47.21875 32.234375 \nQ 47.125 39.59375 43.09375 43.984375 \nQ 39.0625 48.390625 32.421875 48.390625 \nQ 24.90625 48.390625 20.390625 44.140625 \nQ 15.875 39.890625 15.1875 32.171875 \nz\n\" id=\"DejaVuSans-101\"/>\n     <path d=\"M 54.890625 33.015625 \nL 54.890625 0 \nL 45.90625 0 \nL 45.90625 32.71875 \nQ 45.90625 40.484375 42.875 44.328125 \nQ 39.84375 48.1875 33.796875 48.1875 \nQ 26.515625 48.1875 22.3125 43.546875 \nQ 18.109375 38.921875 18.109375 30.90625 \nL 18.109375 0 \nL 9.078125 0 \nL 9.078125 54.6875 \nL 18.109375 54.6875 \nL 18.109375 46.1875 \nQ 21.34375 51.125 25.703125 53.5625 \nQ 30.078125 56 35.796875 56 \nQ 45.21875 56 50.046875 50.171875 \nQ 54.890625 44.34375 54.890625 33.015625 \nz\n\" id=\"DejaVuSans-110\"/>\n     <path d=\"M 18.3125 70.21875 \nL 18.3125 54.6875 \nL 36.8125 54.6875 \nL 36.8125 47.703125 \nL 18.3125 47.703125 \nL 18.3125 18.015625 \nQ 18.3125 11.328125 20.140625 9.421875 \nQ 21.96875 7.515625 27.59375 7.515625 \nL 36.8125 7.515625 \nL 36.8125 0 \nL 27.59375 0 \nQ 17.1875 0 13.234375 3.875 \nQ 9.28125 7.765625 9.28125 18.015625 \nL 9.28125 47.703125 \nL 2.6875 47.703125 \nL 2.6875 54.6875 \nL 9.28125 54.6875 \nL 9.28125 70.21875 \nz\n\" id=\"DejaVuSans-116\"/>\n     <path d=\"M 34.28125 27.484375 \nQ 23.390625 27.484375 19.1875 25 \nQ 14.984375 22.515625 14.984375 16.5 \nQ 14.984375 11.71875 18.140625 8.90625 \nQ 21.296875 6.109375 26.703125 6.109375 \nQ 34.1875 6.109375 38.703125 11.40625 \nQ 43.21875 16.703125 43.21875 25.484375 \nL 43.21875 27.484375 \nz\nM 52.203125 31.203125 \nL 52.203125 0 \nL 43.21875 0 \nL 43.21875 8.296875 \nQ 40.140625 3.328125 35.546875 0.953125 \nQ 30.953125 -1.421875 24.3125 -1.421875 \nQ 15.921875 -1.421875 10.953125 3.296875 \nQ 6 8.015625 6 15.921875 \nQ 6 25.140625 12.171875 29.828125 \nQ 18.359375 34.515625 30.609375 34.515625 \nL 43.21875 34.515625 \nL 43.21875 35.40625 \nQ 43.21875 41.609375 39.140625 45 \nQ 35.0625 48.390625 27.6875 48.390625 \nQ 23 48.390625 18.546875 47.265625 \nQ 14.109375 46.140625 10.015625 43.890625 \nL 10.015625 52.203125 \nQ 14.9375 54.109375 19.578125 55.046875 \nQ 24.21875 56 28.609375 56 \nQ 40.484375 56 46.34375 49.84375 \nQ 52.203125 43.703125 52.203125 31.203125 \nz\n\" id=\"DejaVuSans-97\"/>\n     <path d=\"M 9.421875 54.6875 \nL 18.40625 54.6875 \nL 18.40625 0 \nL 9.421875 0 \nz\nM 9.421875 75.984375 \nL 18.40625 75.984375 \nL 18.40625 64.59375 \nL 9.421875 64.59375 \nz\n\" id=\"DejaVuSans-105\"/>\n     <path d=\"M 30.609375 48.390625 \nQ 23.390625 48.390625 19.1875 42.75 \nQ 14.984375 37.109375 14.984375 27.296875 \nQ 14.984375 17.484375 19.15625 11.84375 \nQ 23.34375 6.203125 30.609375 6.203125 \nQ 37.796875 6.203125 41.984375 11.859375 \nQ 46.1875 17.53125 46.1875 27.296875 \nQ 46.1875 37.015625 41.984375 42.703125 \nQ 37.796875 48.390625 30.609375 48.390625 \nz\nM 30.609375 56 \nQ 42.328125 56 49.015625 48.375 \nQ 55.71875 40.765625 55.71875 27.296875 \nQ 55.71875 13.875 49.015625 6.21875 \nQ 42.328125 -1.421875 30.609375 -1.421875 \nQ 18.84375 -1.421875 12.171875 6.21875 \nQ 5.515625 13.875 5.515625 27.296875 \nQ 5.515625 40.765625 12.171875 48.375 \nQ 18.84375 56 30.609375 56 \nz\n\" id=\"DejaVuSans-111\"/>\n     <path id=\"DejaVuSans-32\"/>\n     <path d=\"M 54.890625 54.6875 \nL 35.109375 28.078125 \nL 55.90625 0 \nL 45.3125 0 \nL 29.390625 21.484375 \nL 13.484375 0 \nL 2.875 0 \nL 24.125 28.609375 \nL 4.6875 54.6875 \nL 15.28125 54.6875 \nL 29.78125 35.203125 \nL 44.28125 54.6875 \nz\n\" id=\"DejaVuSans-120\"/>\n     <path d=\"M 18.109375 8.203125 \nL 18.109375 -20.796875 \nL 9.078125 -20.796875 \nL 9.078125 54.6875 \nL 18.109375 54.6875 \nL 18.109375 46.390625 \nQ 20.953125 51.265625 25.265625 53.625 \nQ 29.59375 56 35.59375 56 \nQ 45.5625 56 51.78125 48.09375 \nQ 58.015625 40.1875 58.015625 27.296875 \nQ 58.015625 14.40625 51.78125 6.484375 \nQ 45.5625 -1.421875 35.59375 -1.421875 \nQ 29.59375 -1.421875 25.265625 0.953125 \nQ 20.953125 3.328125 18.109375 8.203125 \nz\nM 48.6875 27.296875 \nQ 48.6875 37.203125 44.609375 42.84375 \nQ 40.53125 48.484375 33.40625 48.484375 \nQ 26.265625 48.484375 22.1875 42.84375 \nQ 18.109375 37.203125 18.109375 27.296875 \nQ 18.109375 17.390625 22.1875 11.75 \nQ 26.265625 6.109375 33.40625 6.109375 \nQ 40.53125 6.109375 44.609375 11.75 \nQ 48.6875 17.390625 48.6875 27.296875 \nz\n\" id=\"DejaVuSans-112\"/>\n     <path d=\"M 9.421875 75.984375 \nL 18.40625 75.984375 \nL 18.40625 0 \nL 9.421875 0 \nz\n\" id=\"DejaVuSans-108\"/>\n     <path d=\"M 44.28125 53.078125 \nL 44.28125 44.578125 \nQ 40.484375 46.53125 36.375 47.5 \nQ 32.28125 48.484375 27.875 48.484375 \nQ 21.1875 48.484375 17.84375 46.4375 \nQ 14.5 44.390625 14.5 40.28125 \nQ 14.5 37.15625 16.890625 35.375 \nQ 19.28125 33.59375 26.515625 31.984375 \nL 29.59375 31.296875 \nQ 39.15625 29.25 43.1875 25.515625 \nQ 47.21875 21.78125 47.21875 15.09375 \nQ 47.21875 7.46875 41.1875 3.015625 \nQ 35.15625 -1.421875 24.609375 -1.421875 \nQ 20.21875 -1.421875 15.453125 -0.5625 \nQ 10.6875 0.296875 5.421875 2 \nL 5.421875 11.28125 \nQ 10.40625 8.6875 15.234375 7.390625 \nQ 20.0625 6.109375 24.8125 6.109375 \nQ 31.15625 6.109375 34.5625 8.28125 \nQ 37.984375 10.453125 37.984375 14.40625 \nQ 37.984375 18.0625 35.515625 20.015625 \nQ 33.0625 21.96875 24.703125 23.78125 \nL 21.578125 24.515625 \nQ 13.234375 26.265625 9.515625 29.90625 \nQ 5.8125 33.546875 5.8125 39.890625 \nQ 5.8125 47.609375 11.28125 51.796875 \nQ 16.75 56 26.8125 56 \nQ 31.78125 56 36.171875 55.265625 \nQ 40.578125 54.546875 44.28125 53.078125 \nz\n\" id=\"DejaVuSans-115\"/>\n     <path d=\"M 64.40625 67.28125 \nL 64.40625 56.890625 \nQ 59.421875 61.53125 53.78125 63.8125 \nQ 48.140625 66.109375 41.796875 66.109375 \nQ 29.296875 66.109375 22.65625 58.46875 \nQ 16.015625 50.828125 16.015625 36.375 \nQ 16.015625 21.96875 22.65625 14.328125 \nQ 29.296875 6.6875 41.796875 6.6875 \nQ 48.140625 6.6875 53.78125 8.984375 \nQ 59.421875 11.28125 64.40625 15.921875 \nL 64.40625 5.609375 \nQ 59.234375 2.09375 53.4375 0.328125 \nQ 47.65625 -1.421875 41.21875 -1.421875 \nQ 24.65625 -1.421875 15.125 8.703125 \nQ 5.609375 18.84375 5.609375 36.375 \nQ 5.609375 53.953125 15.125 64.078125 \nQ 24.65625 74.21875 41.21875 74.21875 \nQ 47.75 74.21875 53.53125 72.484375 \nQ 59.328125 70.75 64.40625 67.28125 \nz\n\" id=\"DejaVuSans-67\"/>\n     <path d=\"M 9.8125 72.90625 \nL 19.671875 72.90625 \nL 19.671875 0 \nL 9.8125 0 \nz\n\" id=\"DejaVuSans-73\"/>\n     <path d=\"M 9.8125 72.90625 \nL 51.703125 72.90625 \nL 51.703125 64.59375 \nL 19.671875 64.59375 \nL 19.671875 43.109375 \nL 48.578125 43.109375 \nL 48.578125 34.8125 \nL 19.671875 34.8125 \nL 19.671875 0 \nL 9.8125 0 \nz\n\" id=\"DejaVuSans-70\"/>\n     <path d=\"M 44.390625 34.1875 \nQ 47.5625 33.109375 50.5625 29.59375 \nQ 53.5625 26.078125 56.59375 19.921875 \nL 66.609375 0 \nL 56 0 \nL 46.6875 18.703125 \nQ 43.0625 26.03125 39.671875 28.421875 \nQ 36.28125 30.8125 30.421875 30.8125 \nL 19.671875 30.8125 \nL 19.671875 0 \nL 9.8125 0 \nL 9.8125 72.90625 \nL 32.078125 72.90625 \nQ 44.578125 72.90625 50.734375 67.671875 \nQ 56.890625 62.453125 56.890625 51.90625 \nQ 56.890625 45.015625 53.6875 40.46875 \nQ 50.484375 35.9375 44.390625 34.1875 \nz\nM 19.671875 64.796875 \nL 19.671875 38.921875 \nL 32.078125 38.921875 \nQ 39.203125 38.921875 42.84375 42.21875 \nQ 46.484375 45.515625 46.484375 51.90625 \nQ 46.484375 58.296875 42.84375 61.546875 \nQ 39.203125 64.796875 32.078125 64.796875 \nz\n\" id=\"DejaVuSans-82\"/>\n     <path d=\"M 12.40625 8.296875 \nL 28.515625 8.296875 \nL 28.515625 63.921875 \nL 10.984375 60.40625 \nL 10.984375 69.390625 \nL 28.421875 72.90625 \nL 38.28125 72.90625 \nL 38.28125 8.296875 \nL 54.390625 8.296875 \nL 54.390625 0 \nL 12.40625 0 \nz\n\" id=\"DejaVuSans-49\"/>\n     <path d=\"M 31.78125 66.40625 \nQ 24.171875 66.40625 20.328125 58.90625 \nQ 16.5 51.421875 16.5 36.375 \nQ 16.5 21.390625 20.328125 13.890625 \nQ 24.171875 6.390625 31.78125 6.390625 \nQ 39.453125 6.390625 43.28125 13.890625 \nQ 47.125 21.390625 47.125 36.375 \nQ 47.125 51.421875 43.28125 58.90625 \nQ 39.453125 66.40625 31.78125 66.40625 \nz\nM 31.78125 74.21875 \nQ 44.046875 74.21875 50.515625 64.515625 \nQ 56.984375 54.828125 56.984375 36.375 \nQ 56.984375 17.96875 50.515625 8.265625 \nQ 44.046875 -1.421875 31.78125 -1.421875 \nQ 19.53125 -1.421875 13.0625 8.265625 \nQ 6.59375 17.96875 6.59375 36.375 \nQ 6.59375 54.828125 13.0625 64.515625 \nQ 19.53125 74.21875 31.78125 74.21875 \nz\n\" id=\"DejaVuSans-48\"/>\n    </defs>\n    <g transform=\"translate(120.904687 16.318125)scale(0.12 -0.12)\">\n     <use xlink:href=\"#DejaVuSans-65\"/>\n     <use x=\"68.408203\" xlink:href=\"#DejaVuSans-117\"/>\n     <use x=\"131.787109\" xlink:href=\"#DejaVuSans-103\"/>\n     <use x=\"195.263672\" xlink:href=\"#DejaVuSans-109\"/>\n     <use x=\"292.675781\" xlink:href=\"#DejaVuSans-101\"/>\n     <use x=\"354.199219\" xlink:href=\"#DejaVuSans-110\"/>\n     <use x=\"417.578125\" xlink:href=\"#DejaVuSans-116\"/>\n     <use x=\"456.787109\" xlink:href=\"#DejaVuSans-97\"/>\n     <use x=\"518.066406\" xlink:href=\"#DejaVuSans-116\"/>\n     <use x=\"557.275391\" xlink:href=\"#DejaVuSans-105\"/>\n     <use x=\"585.058594\" xlink:href=\"#DejaVuSans-111\"/>\n     <use x=\"646.240234\" xlink:href=\"#DejaVuSans-110\"/>\n     <use x=\"709.619141\" xlink:href=\"#DejaVuSans-32\"/>\n     <use x=\"741.40625\" xlink:href=\"#DejaVuSans-101\"/>\n     <use x=\"801.179688\" xlink:href=\"#DejaVuSans-120\"/>\n     <use x=\"860.359375\" xlink:href=\"#DejaVuSans-97\"/>\n     <use x=\"921.638672\" xlink:href=\"#DejaVuSans-109\"/>\n     <use x=\"1019.050781\" xlink:href=\"#DejaVuSans-112\"/>\n     <use x=\"1082.527344\" xlink:href=\"#DejaVuSans-108\"/>\n     <use x=\"1110.310547\" xlink:href=\"#DejaVuSans-101\"/>\n     <use x=\"1171.833984\" xlink:href=\"#DejaVuSans-115\"/>\n     <use x=\"1223.933594\" xlink:href=\"#DejaVuSans-32\"/>\n     <use x=\"1255.720703\" xlink:href=\"#DejaVuSans-111\"/>\n     <use x=\"1316.902344\" xlink:href=\"#DejaVuSans-110\"/>\n     <use x=\"1380.28125\" xlink:href=\"#DejaVuSans-32\"/>\n     <use x=\"1412.068359\" xlink:href=\"#DejaVuSans-67\"/>\n     <use x=\"1481.892578\" xlink:href=\"#DejaVuSans-73\"/>\n     <use x=\"1511.384766\" xlink:href=\"#DejaVuSans-70\"/>\n     <use x=\"1559.779297\" xlink:href=\"#DejaVuSans-65\"/>\n     <use x=\"1628.1875\" xlink:href=\"#DejaVuSans-82\"/>\n     <use x=\"1697.669922\" xlink:href=\"#DejaVuSans-49\"/>\n     <use x=\"1761.292969\" xlink:href=\"#DejaVuSans-48\"/>\n    </g>\n   </g>\n  </g>\n </g>\n <defs>\n  <clipPath id=\"p31a4917d57\">\n   <rect height=\"226.434783\" width=\"446.4\" x=\"7.2\" y=\"22.318125\"/>\n  </clipPath>\n </defs>\n</svg>\n",
            "application/pdf": "[encoded data removed]"
          },
          "metadata": {
            "needs_background": "light"
          }
        }
      ],
      "source": [
        "NUM_IMAGES = 4\n",
        "images = [train_dataset[idx][0] for idx in range(NUM_IMAGES)]\n",
        "orig_images = [Image.fromarray(train_dataset.data[idx]) for idx in range(NUM_IMAGES)]\n",
        "orig_images = [test_transform(img) for img in orig_images]\n",
        "\n",
        "img_grid = torchvision.utils.make_grid(torch.stack(images + orig_images, dim=0), nrow=4, normalize=True, pad_value=0.5)\n",
        "img_grid = img_grid.permute(1, 2, 0)\n",
        "\n",
        "plt.figure(figsize=(8, 8))\n",
        "plt.title(\"Augmentation examples on CIFAR10\")\n",
        "plt.imshow(img_grid)\n",
        "plt.axis(\"off\")\n",
        "plt.show()\n",
        "plt.close()"
      ],
      "id": "8446e8ab"
    },
    {
      "cell_type": "markdown",
      "metadata": {
        "id": "149561c0"
      },
      "source": [
        "## PyTorch Lightning\n",
        "\n",
        "In this notebook and in many following ones, we will make use of the library [PyTorch Lightning](https://www.pytorchlightning.ai/).\n",
        "PyTorch Lightning is a framework that simplifies your code needed to train, evaluate, and test a model in PyTorch.\n",
        "It also handles logging into [TensorBoard](https://pytorch.org/tutorials/intermediate/tensorboard_tutorial.html), a visualization toolkit for ML experiments, and saving model checkpoints automatically with minimal code overhead from our side.\n",
        "This is extremely helpful for us as we want to focus on implementing different model architectures and spend little time on other code overhead.\n",
        "Note that at the time of writing/teaching, the framework has been released in version 1.3.\n",
        "Future versions might have a slightly changed interface and thus might not work perfectly with the code (we will try to keep it up-to-date as much as possible).\n",
        "\n",
        "Now, we will take the first step in PyTorch Lightning, and continue to explore the framework in our other tutorials.\n",
        "PyTorch Lightning comes with a lot of useful functions, such as one for setting the seed as we have seen before:"
      ],
      "id": "149561c0"
    },
    {
      "cell_type": "code",
      "execution_count": 9,
      "metadata": {
        "colab": {
          "base_uri": "https://localhost:8080/"
        },
        "id": "64a4c1e2",
        "outputId": "e9153ee9-eea0-41f0-f5f5-9e975a53499f"
      },
      "outputs": [
        {
          "output_type": "stream",
          "name": "stderr",
          "text": [
            "Global seed set to 42\n"
          ]
        },
        {
          "output_type": "execute_result",
          "data": {
            "text/plain": [
              "42"
            ]
          },
          "metadata": {},
          "execution_count": 9
        }
      ],
      "source": [
        "# Setting the seed\n",
        "pl.seed_everything(42)"
      ],
      "id": "64a4c1e2"
    },
    {
      "cell_type": "markdown",
      "metadata": {
        "id": "7fd49de0"
      },
      "source": [
        "Thus, in the future, we don't have to define our own `set_seed` function anymore.\n",
        "\n",
        "In PyTorch Lightning, we define `pl.LightningModule`'s (inheriting from `torch.nn.Module`) that organize our code into 5 main sections:\n",
        "\n",
        "1. Initialization (`__init__`), where we create all necessary parameters/models\n",
        "2. Optimizers (`configure_optimizers`) where we create the optimizers, learning rate scheduler, etc.\n",
        "3.\n",
        "Training loop (`training_step`) where we only have to define the loss calculation for a single batch (the loop of optimizer.zero_grad(), loss.backward() and optimizer.step(), as well as any logging/saving operation, is done in the background)\n",
        "4.\n",
        "Validation loop (`validation_step`) where similarly to the training, we only have to define what should happen per step\n",
        "5. Test loop (`test_step`) which is the same as validation, only on a test set.\n",
        "\n",
        "Therefore, we don't abstract the PyTorch code, but rather organize it and define some default operations that are commonly used.\n",
        "If you need to change something else in your training/validation/test loop, there are many possible functions you can overwrite (see the [docs](https://pytorch-lightning.readthedocs.io/en/stable/common/lightning_module.html) for details).\n",
        "\n",
        "Now we can look at an example of how a Lightning Module for training a CNN looks like:"
      ],
      "id": "7fd49de0"
    },
    {
      "cell_type": "code",
      "execution_count": 10,
      "metadata": {
        "id": "b69ff72a"
      },
      "outputs": [],
      "source": [
        "class CIFARModule(pl.LightningModule):\n",
        "    def __init__(self, model_name, model_hparams, optimizer_name, optimizer_hparams):\n",
        "        \"\"\"\n",
        "        Inputs:\n",
        "            model_name - Name of the model/CNN to run. Used for creating the model (see function below)\n",
        "            model_hparams - Hyperparameters for the model, as dictionary.\n",
        "            optimizer_name - Name of the optimizer to use. Currently supported: Adam, SGD\n",
        "            optimizer_hparams - Hyperparameters for the optimizer, as dictionary. This includes learning rate, weight decay, etc.\n",
        "        \"\"\"\n",
        "        super().__init__()\n",
        "        # Exports the hyperparameters to a YAML file, and create \"self.hparams\" namespace\n",
        "        self.save_hyperparameters()\n",
        "        # Create model\n",
        "        self.model = create_model(model_name, model_hparams)\n",
        "        # Create loss module\n",
        "        self.loss_module = nn.CrossEntropyLoss()\n",
        "        # Example input for visualizing the graph in Tensorboard\n",
        "        self.example_input_array = torch.zeros((1, 3, 32, 32), dtype=torch.float32)\n",
        "\n",
        "    def forward(self, imgs):\n",
        "        # Forward function that is run when visualizing the graph\n",
        "        return self.model(imgs)\n",
        "\n",
        "    def configure_optimizers(self):\n",
        "        # We will support Adam or SGD as optimizers.\n",
        "        if self.hparams.optimizer_name == \"Adam\":\n",
        "            # AdamW is Adam with a correct implementation of weight decay (see here\n",
        "            # for details: https://arxiv.org/pdf/1711.05101.pdf)\n",
        "            optimizer = optim.AdamW(self.parameters(), **self.hparams.optimizer_hparams)\n",
        "        elif self.hparams.optimizer_name == \"SGD\":\n",
        "            optimizer = optim.SGD(self.parameters(), **self.hparams.optimizer_hparams)\n",
        "        else:\n",
        "            assert False, f'Unknown optimizer: \"{self.hparams.optimizer_name}\"'\n",
        "\n",
        "        # We will reduce the learning rate by 0.1 after 100 and 150 epochs\n",
        "        scheduler = optim.lr_scheduler.MultiStepLR(optimizer, milestones=[100, 150], gamma=0.1)\n",
        "        return [optimizer], [scheduler]\n",
        "\n",
        "    def training_step(self, batch, batch_idx):\n",
        "        # \"batch\" is the output of the training data loader.\n",
        "        imgs, labels = batch\n",
        "        preds = self.model(imgs)\n",
        "        loss = self.loss_module(preds, labels)\n",
        "        acc = (preds.argmax(dim=-1) == labels).float().mean()\n",
        "\n",
        "        # Logs the accuracy per epoch to tensorboard (weighted average over batches)\n",
        "        self.log(\"train_acc\", acc, on_step=False, on_epoch=True)\n",
        "        self.log(\"train_loss\", loss)\n",
        "        return loss  # Return tensor to call \".backward\" on\n",
        "\n",
        "    def validation_step(self, batch, batch_idx):\n",
        "        imgs, labels = batch\n",
        "        preds = self.model(imgs).argmax(dim=-1)\n",
        "        acc = (labels == preds).float().mean()\n",
        "        # By default logs it per epoch (weighted average over batches)\n",
        "        self.log(\"val_acc\", acc)\n",
        "\n",
        "    def test_step(self, batch, batch_idx):\n",
        "        imgs, labels = batch\n",
        "        preds = self.model(imgs).argmax(dim=-1)\n",
        "        acc = (labels == preds).float().mean()\n",
        "        # By default logs it per epoch (weighted average over batches), and returns it afterwards\n",
        "        self.log(\"test_acc\", acc)"
      ],
      "id": "b69ff72a"
    },
    {
      "cell_type": "markdown",
      "metadata": {
        "id": "9c6e2fd5"
      },
      "source": [
        "We see that the code is organized and clear, which helps if someone else tries to understand your code.\n",
        "\n",
        "Another important part of PyTorch Lightning is the concept of callbacks.\n",
        "Callbacks are self-contained functions that contain the non-essential logic of your Lightning Module.\n",
        "They are usually called after finishing a training epoch, but can also influence other parts of your training loop.\n",
        "For instance, we will use the following two pre-defined callbacks: `LearningRateMonitor` and `ModelCheckpoint`.\n",
        "The learning rate monitor adds the current learning rate to our TensorBoard, which helps to verify that our learning rate scheduler works correctly.\n",
        "The model checkpoint callback allows you to customize the saving routine of your checkpoints.\n",
        "For instance, how many checkpoints to keep, when to save, which metric to look out for, etc.\n",
        "We import them below:"
      ],
      "id": "9c6e2fd5"
    },
    {
      "cell_type": "code",
      "execution_count": 11,
      "metadata": {
        "id": "dc616468"
      },
      "outputs": [],
      "source": [
        "# Callbacks"
      ],
      "id": "dc616468"
    },
    {
      "cell_type": "markdown",
      "metadata": {
        "id": "1e0190f5"
      },
      "source": [
        "To allow running multiple different models with the same Lightning module, we define a function below that maps a model name to the model class.\n",
        "At this stage, the dictionary `model_dict` is empty, but we will fill it throughout the notebook with our new models."
      ],
      "id": "1e0190f5"
    },
    {
      "cell_type": "code",
      "execution_count": 12,
      "metadata": {
        "id": "85cc100c"
      },
      "outputs": [],
      "source": [
        "model_dict = {}\n",
        "\n",
        "\n",
        "def create_model(model_name, model_hparams):\n",
        "    if model_name in model_dict:\n",
        "        return model_dict[model_name](**model_hparams)\n",
        "    else:\n",
        "        assert False, f'Unknown model name \"{model_name}\". Available models are: {str(model_dict.keys())}'"
      ],
      "id": "85cc100c"
    },
    {
      "cell_type": "markdown",
      "metadata": {
        "id": "a0a4d9d3"
      },
      "source": [
        "Similarly, to use the activation function as another hyperparameter in\n",
        "our model, we define a \"name to function\" dict below:"
      ],
      "id": "a0a4d9d3"
    },
    {
      "cell_type": "code",
      "execution_count": 13,
      "metadata": {
        "id": "c90505b7"
      },
      "outputs": [],
      "source": [
        "act_fn_by_name = {\"tanh\": nn.Tanh, \"relu\": nn.ReLU, \"leakyrelu\": nn.LeakyReLU, \"gelu\": nn.GELU}"
      ],
      "id": "c90505b7"
    },
    {
      "cell_type": "markdown",
      "metadata": {
        "id": "17c2342f"
      },
      "source": [
        "If we pass the classes or objects directly as an argument to the Lightning module, we couldn't take advantage of PyTorch Lightning's automatically hyperparameter saving and loading.\n",
        "\n",
        "Besides the Lightning module, the second most important module in PyTorch Lightning is the `Trainer`.\n",
        "The trainer is responsible to execute the training steps defined in the Lightning module and completes the framework.\n",
        "Similar to the Lightning module, you can override any key part that you don't want to be automated, but the default settings are often the best practice to do.\n",
        "For a full overview, see the [documentation](https://pytorch-lightning.readthedocs.io/en/stable/common/trainer.html).\n",
        "The most important functions we use below are:\n",
        "\n",
        "* `trainer.fit`: Takes as input a lightning module, a training dataset, and an (optional) validation dataset.\n",
        "This function trains the given module on the training dataset with occasional validation (default once per epoch, can be changed)\n",
        "* `trainer.test`: Takes as input a model and a dataset on which we want to test.\n",
        "It returns the test metric on the dataset.\n",
        "\n",
        "For training and testing, we don't have to worry about things like setting the model to eval mode (`model.eval()`) as this is all done automatically.\n",
        "See below how we define a training function for our models:"
      ],
      "id": "17c2342f"
    },
    {
      "cell_type": "code",
      "execution_count": 14,
      "metadata": {
        "id": "8b613c8b"
      },
      "outputs": [],
      "source": [
        "def train_model(model_name, save_name=None, **kwargs):\n",
        "    \"\"\"\n",
        "    Inputs:\n",
        "        model_name - Name of the model you want to run. Is used to look up the class in \"model_dict\"\n",
        "        save_name (optional) - If specified, this name will be used for creating the checkpoint and logging directory.\n",
        "    \"\"\"\n",
        "    if save_name is None:\n",
        "        save_name = model_name\n",
        "\n",
        "    # Create a PyTorch Lightning trainer with the generation callback\n",
        "    trainer = pl.Trainer(\n",
        "        default_root_dir=os.path.join(CHECKPOINT_PATH, save_name),  # Where to save models\n",
        "        # We run on a single GPU (if possible)\n",
        "        gpus=1 if str(device) == \"cuda:0\" else 0,\n",
        "        # How many epochs to train for if no patience is set\n",
        "        max_epochs=180,\n",
        "        callbacks=[\n",
        "            ModelCheckpoint(\n",
        "                save_weights_only=True, mode=\"max\", monitor=\"val_acc\"\n",
        "            ),  # Save the best checkpoint based on the maximum val_acc recorded. Saves only weights and not optimizer\n",
        "            LearningRateMonitor(\"epoch\"),\n",
        "        ],  # Log learning rate every epoch\n",
        "        progress_bar_refresh_rate=1,\n",
        "    )  # In case your notebook crashes due to the progress bar, consider increasing the refresh rate\n",
        "    trainer.logger._log_graph = True  # If True, we plot the computation graph in tensorboard\n",
        "    trainer.logger._default_hp_metric = None  # Optional logging argument that we don't need\n",
        "\n",
        "    # Check whether pretrained model exists. If yes, load it and skip training\n",
        "    pretrained_filename = os.path.join(CHECKPOINT_PATH, save_name + \".ckpt\")\n",
        "    if os.path.isfile(pretrained_filename):\n",
        "        print(f\"Found pretrained model at {pretrained_filename}, loading...\")\n",
        "        # Automatically loads the model with the saved hyperparameters\n",
        "        model = CIFARModule.load_from_checkpoint(pretrained_filename)\n",
        "    else:\n",
        "        pl.seed_everything(42)  # To be reproducable\n",
        "        model = CIFARModule(model_name=model_name, **kwargs)\n",
        "        trainer.fit(model, train_loader, val_loader)\n",
        "        model = CIFARModule.load_from_checkpoint(\n",
        "            trainer.checkpoint_callback.best_model_path\n",
        "        )  # Load best checkpoint after training\n",
        "\n",
        "    # Test best model on validation and test set\n",
        "    val_result = trainer.test(model, dataloaders=val_loader, verbose=False)\n",
        "    test_result = trainer.test(model, dataloaders=test_loader, verbose=False)\n",
        "    result = {\"test\": test_result[0][\"test_acc\"], \"val\": val_result[0][\"test_acc\"]}\n",
        "\n",
        "    return model, result"
      ],
      "id": "8b613c8b"
    },
    {
      "cell_type": "markdown",
      "metadata": {
        "id": "63e2d950"
      },
      "source": [
        "Finally, we can focus on the Convolutional Neural Networks we want to\n",
        "implement today: GoogleNet, ResNet, and DenseNet."
      ],
      "id": "63e2d950"
    },
    {
      "cell_type": "markdown",
      "metadata": {
        "id": "27e706f9"
      },
      "source": [
        "## Inception\n",
        "\n",
        "\n",
        "\n",
        "The [GoogleNet](https://arxiv.org/abs/1409.4842), proposed in 2014, won the ImageNet Challenge because of its usage of the Inception modules.\n",
        "In general, we will mainly focus on the concept of Inception in this tutorial instead of the specifics of the GoogleNet, as based on Inception, there have been many follow-up works ([Inception-v2](https://arxiv.org/abs/1512.00567), [Inception-v3](https://arxiv.org/abs/1512.00567), [Inception-v4](https://arxiv.org/abs/1602.07261), [Inception-ResNet](https://arxiv.org/abs/1602.07261),...).\n",
        "The follow-up works mainly focus on increasing efficiency and enabling very deep Inception networks.\n",
        "However, for a fundamental understanding, it is sufficient to look at the original Inception block.\n",
        "\n",
        "An Inception block applies four convolution blocks separately on the same feature map: a 1x1, 3x3, and 5x5 convolution, and a max pool operation.\n",
        "This allows the network to look at the same data with different receptive fields.\n",
        "Of course, learning only 5x5 convolution would be theoretically more powerful.\n",
        "However, this is not only more computation and memory heavy but also tends to overfit much easier.\n",
        "The overall inception block looks like below (figure credit - [Szegedy et al. ](https://arxiv.org/abs/1409.4842)):\n",
        "\n",
        "<center width=\"100%\"><img src=\"https://github.com/PyTorchLightning/lightning-tutorials/raw/main/course_UvA-DL/04-inception-resnet-densenet/inception_block.svg\" style=\"display: block; margin-left: auto; margin-right: auto;\" width=\"500px\"/></center>\n",
        "\n",
        "The additional 1x1 convolutions before the 3x3 and 5x5 convolutions are used for dimensionality reduction.\n",
        "This is especially crucial as the feature maps of all branches are merged afterward, and we don't want any explosion of feature size.\n",
        "As 5x5 convolutions are 25 times more expensive than 1x1 convolutions, we can save a lot of computation and parameters by reducing the dimensionality before the large convolutions.\n",
        "\n",
        "We can now try to implement the Inception Block ourselves:"
      ],
      "id": "27e706f9"
    },
    {
      "cell_type": "code",
      "execution_count": 15,
      "metadata": {
        "id": "bf444ace"
      },
      "outputs": [],
      "source": [
        "class InceptionBlock(nn.Module):\n",
        "    def __init__(self, c_in, c_red: dict, c_out: dict, act_fn):\n",
        "        \"\"\"\n",
        "        Inputs:\n",
        "            c_in - Number of input feature maps from the previous layers\n",
        "            c_red - Dictionary with keys \"3x3\" and \"5x5\" specifying the output of the dimensionality reducing 1x1 convolutions\n",
        "            c_out - Dictionary with keys \"1x1\", \"3x3\", \"5x5\", and \"max\"\n",
        "            act_fn - Activation class constructor (e.g. nn.ReLU)\n",
        "        \"\"\"\n",
        "        super().__init__()\n",
        "\n",
        "        # 1x1 convolution branch\n",
        "        self.conv_1x1 = nn.Sequential(\n",
        "            nn.Conv2d(c_in, c_out[\"1x1\"], kernel_size=1), nn.BatchNorm2d(c_out[\"1x1\"]), act_fn()\n",
        "        )\n",
        "\n",
        "        # 3x3 convolution branch\n",
        "        self.conv_3x3 = nn.Sequential(\n",
        "            nn.Conv2d(c_in, c_red[\"3x3\"], kernel_size=1),\n",
        "            nn.BatchNorm2d(c_red[\"3x3\"]),\n",
        "            act_fn(),\n",
        "            nn.Conv2d(c_red[\"3x3\"], c_out[\"3x3\"], kernel_size=3, padding=1),\n",
        "            nn.BatchNorm2d(c_out[\"3x3\"]),\n",
        "            act_fn(),\n",
        "        )\n",
        "\n",
        "        # 5x5 convolution branch\n",
        "        self.conv_5x5 = nn.Sequential(\n",
        "            nn.Conv2d(c_in, c_red[\"5x5\"], kernel_size=1),\n",
        "            nn.BatchNorm2d(c_red[\"5x5\"]),\n",
        "            act_fn(),\n",
        "            nn.Conv2d(c_red[\"5x5\"], c_out[\"5x5\"], kernel_size=5, padding=2),\n",
        "            nn.BatchNorm2d(c_out[\"5x5\"]),\n",
        "            act_fn(),\n",
        "        )\n",
        "\n",
        "        # Max-pool branch\n",
        "        self.max_pool = nn.Sequential(\n",
        "            nn.MaxPool2d(kernel_size=3, padding=1, stride=1),\n",
        "            nn.Conv2d(c_in, c_out[\"max\"], kernel_size=1),\n",
        "            nn.BatchNorm2d(c_out[\"max\"]),\n",
        "            act_fn(),\n",
        "        )\n",
        "\n",
        "    def forward(self, x):\n",
        "        x_1x1 = self.conv_1x1(x)\n",
        "        x_3x3 = self.conv_3x3(x)\n",
        "        x_5x5 = self.conv_5x5(x)\n",
        "        x_max = self.max_pool(x)\n",
        "        x_out = torch.cat([x_1x1, x_3x3, x_5x5, x_max], dim=1)\n",
        "        return x_out"
      ],
      "id": "bf444ace"
    },
    {
      "cell_type": "markdown",
      "metadata": {
        "id": "97b40cbe"
      },
      "source": [
        "Arsitektur GoogleNet terdiri dari tumpukan beberapa blok Inception dengan pengumpulan maksimum sesekali untuk mengurangi tinggi dan lebar peta fitur.\n",
        "GoogleNet dirancang untuk ukuran gambar ImageNet (224x224 piksel) dan memiliki hampir 7 juta parameter.\n",
        "Saat Train di CIFAR10 dengan ukuran gambar 32x32  tidak memerlukan arsitektur yang berat, dan sebaliknya dapat  menerapkan versi yang lebih kecil.\n",
        "\n",
        "Jumlah saluran untuk pengurangan dimensi dan keluaran per filter (1x1, 3x3, 5x5, dan pooling maks) perlu ditentukan secara manual dan dapat diubah jika diperlukan.\n",
        "\n",
        "Intuisi umum adalah memiliki filter terbanyak untuk 3x3\n",
        "konvolusi, karena cukup kuat untuk memperhitungkan konteks sementara yang membutuhkan hampir sepertiga dari parameter konvolusi 5x5."
      ],
      "id": "97b40cbe"
    },
    {
      "cell_type": "code",
      "execution_count": 16,
      "metadata": {
        "id": "baa230dd"
      },
      "outputs": [],
      "source": [
        "class GoogleNet(nn.Module):\n",
        "    def __init__(self, num_classes=10, act_fn_name=\"relu\", **kwargs):\n",
        "        super().__init__()\n",
        "        self.hparams = SimpleNamespace(\n",
        "            num_classes=num_classes, act_fn_name=act_fn_name, act_fn=act_fn_by_name[act_fn_name]\n",
        "        )\n",
        "        self._create_network()\n",
        "        self._init_params()\n",
        "\n",
        "    def _create_network(self):\n",
        "        # A first convolution on the original image to scale up the channel size\n",
        "        self.input_net = nn.Sequential(\n",
        "            nn.Conv2d(3, 64, kernel_size=3, padding=1), nn.BatchNorm2d(64), self.hparams.act_fn()\n",
        "        )\n",
        "        # Stacking inception blocks\n",
        "        self.inception_blocks = nn.Sequential(\n",
        "            InceptionBlock(\n",
        "                64,\n",
        "                c_red={\"3x3\": 32, \"5x5\": 16},\n",
        "                c_out={\"1x1\": 16, \"3x3\": 32, \"5x5\": 8, \"max\": 8},\n",
        "                act_fn=self.hparams.act_fn,\n",
        "            ),\n",
        "            InceptionBlock(\n",
        "                64,\n",
        "                c_red={\"3x3\": 32, \"5x5\": 16},\n",
        "                c_out={\"1x1\": 24, \"3x3\": 48, \"5x5\": 12, \"max\": 12},\n",
        "                act_fn=self.hparams.act_fn,\n",
        "            ),\n",
        "            nn.MaxPool2d(3, stride=2, padding=1),  # 32x32 => 16x16\n",
        "            InceptionBlock(\n",
        "                96,\n",
        "                c_red={\"3x3\": 32, \"5x5\": 16},\n",
        "                c_out={\"1x1\": 24, \"3x3\": 48, \"5x5\": 12, \"max\": 12},\n",
        "                act_fn=self.hparams.act_fn,\n",
        "            ),\n",
        "            InceptionBlock(\n",
        "                96,\n",
        "                c_red={\"3x3\": 32, \"5x5\": 16},\n",
        "                c_out={\"1x1\": 16, \"3x3\": 48, \"5x5\": 16, \"max\": 16},\n",
        "                act_fn=self.hparams.act_fn,\n",
        "            ),\n",
        "            InceptionBlock(\n",
        "                96,\n",
        "                c_red={\"3x3\": 32, \"5x5\": 16},\n",
        "                c_out={\"1x1\": 16, \"3x3\": 48, \"5x5\": 16, \"max\": 16},\n",
        "                act_fn=self.hparams.act_fn,\n",
        "            ),\n",
        "            InceptionBlock(\n",
        "                96,\n",
        "                c_red={\"3x3\": 32, \"5x5\": 16},\n",
        "                c_out={\"1x1\": 32, \"3x3\": 48, \"5x5\": 24, \"max\": 24},\n",
        "                act_fn=self.hparams.act_fn,\n",
        "            ),\n",
        "            nn.MaxPool2d(3, stride=2, padding=1),  # 16x16 => 8x8\n",
        "            InceptionBlock(\n",
        "                128,\n",
        "                c_red={\"3x3\": 48, \"5x5\": 16},\n",
        "                c_out={\"1x1\": 32, \"3x3\": 64, \"5x5\": 16, \"max\": 16},\n",
        "                act_fn=self.hparams.act_fn,\n",
        "            ),\n",
        "            InceptionBlock(\n",
        "                128,\n",
        "                c_red={\"3x3\": 48, \"5x5\": 16},\n",
        "                c_out={\"1x1\": 32, \"3x3\": 64, \"5x5\": 16, \"max\": 16},\n",
        "                act_fn=self.hparams.act_fn,\n",
        "            ),\n",
        "        )\n",
        "        # Mapping to classification output\n",
        "        self.output_net = nn.Sequential(\n",
        "            nn.AdaptiveAvgPool2d((1, 1)), nn.Flatten(), nn.Linear(128, self.hparams.num_classes)\n",
        "        )\n",
        "\n",
        "    def _init_params(self):\n",
        "        # Based on our discussion in Tutorial 4, we should initialize the\n",
        "        # convolutions according to the activation function\n",
        "        for m in self.modules():\n",
        "            if isinstance(m, nn.Conv2d):\n",
        "                nn.init.kaiming_normal_(m.weight, nonlinearity=self.hparams.act_fn_name)\n",
        "            elif isinstance(m, nn.BatchNorm2d):\n",
        "                nn.init.constant_(m.weight, 1)\n",
        "                nn.init.constant_(m.bias, 0)\n",
        "\n",
        "    def forward(self, x):\n",
        "        x = self.input_net(x)\n",
        "        x = self.inception_blocks(x)\n",
        "        x = self.output_net(x)\n",
        "        return x"
      ],
      "id": "baa230dd"
    },
    {
      "cell_type": "markdown",
      "metadata": {
        "id": "67ccd42c"
      },
      "source": [
        "Sekarang, kita dapat mengintegrasikan model kita ke kamus model yang kita definisikan "
      ],
      "id": "67ccd42c"
    },
    {
      "cell_type": "code",
      "execution_count": 17,
      "metadata": {
        "id": "64677f18"
      },
      "outputs": [],
      "source": [
        "model_dict[\"GoogleNet\"] = GoogleNet"
      ],
      "id": "64677f18"
    },
    {
      "cell_type": "code",
      "execution_count": 18,
      "metadata": {
        "colab": {
          "base_uri": "https://localhost:8080/",
          "height": 278,
          "referenced_widgets": [
            "22b49fad839c4c7fbea34b649a3c3597",
            "c0493ef83c7a4481a246ad99ec778a51",
            "fc39414e515e4762bf63afca661b879f",
            "a79aa44a708a4423be21692b97dcd748",
            "d55a2b3f4f3f4a7a81dfb080881c1149",
            "df3106d24bae4a2eb0a5ee2f6faeef63",
            "fd09d98b62354b5d967ea9e64bfca040",
            "e3973de5efce48d1910c52f2c373fbd9",
            "0cda8ca551014da3bc6f3b6794bc93cd",
            "ef01ea5269dd4c53bda188859c2f9bf3",
            "ed575e9476c64a40a84c06611ba289dc",
            "5e331f66b1224b5ba8bacc3cff957cec",
            "d31d0a0a87dd44f3b044613b0bfb7340",
            "d02c97bbd6334b4f80bf3462f4456773",
            "4b0369bbbb6b4889b39bfeb167320edc",
            "06cc994161bf41bdbab8a32cc99a62fe",
            "bf3406f124164fe6822a1c79199fc288",
            "aee17dce9fc14624bc57a325fcd28637",
            "fd0b3646cf304683abb90a9be1863703",
            "c9c96db5c89e4da591e3818d290a3771",
            "c692e61353da4aefbc86814b0e8473de",
            "7d661e0c524f489a81457e51e6fccbf8"
          ]
        },
        "id": "b0cf3f32",
        "outputId": "378efdb0-5bdc-47b7-a71c-b68c30192c96"
      },
      "outputs": [
        {
          "output_type": "stream",
          "name": "stderr",
          "text": [
            "/usr/local/lib/python3.7/dist-packages/pytorch_lightning/trainer/connectors/callback_connector.py:97: LightningDeprecationWarning: Setting `Trainer(progress_bar_refresh_rate=1)` is deprecated in v1.5 and will be removed in v1.7. Please pass `pytorch_lightning.callbacks.progress.TQDMProgressBar` with `refresh_rate` directly to the Trainer's `callbacks` argument instead. Or, to disable the progress bar pass `enable_progress_bar = False` to the Trainer.\n",
            "  f\"Setting `Trainer(progress_bar_refresh_rate={progress_bar_refresh_rate})` is deprecated in v1.5 and\"\n",
            "GPU available: False, used: False\n",
            "TPU available: False, using: 0 TPU cores\n",
            "IPU available: False, using: 0 IPUs\n",
            "HPU available: False, using: 0 HPUs\n",
            "Missing logger folder: saved_models/ConvNets/GoogleNet/lightning_logs\n"
          ]
        },
        {
          "output_type": "stream",
          "name": "stdout",
          "text": [
            "Found pretrained model at saved_models/ConvNets/GoogleNet.ckpt, loading...\n"
          ]
        },
        {
          "output_type": "display_data",
          "data": {
            "text/plain": [
              "Testing: 0it [00:00, ?it/s]"
            ],
            "application/vnd.jupyter.widget-view+json": {
              "version_major": 2,
              "version_minor": 0,
              "model_id": "22b49fad839c4c7fbea34b649a3c3597"
            }
          },
          "metadata": {}
        },
        {
          "output_type": "stream",
          "name": "stderr",
          "text": [
            "/usr/local/lib/python3.7/dist-packages/torch/utils/data/dataloader.py:477: UserWarning: This DataLoader will create 4 worker processes in total. Our suggested max number of worker in current system is 2, which is smaller than what this DataLoader is going to create. Please be aware that excessive worker creation might get DataLoader running slow or even freeze, lower the worker number to avoid potential slowness/freeze if necessary.\n",
            "  cpuset_checked))\n"
          ]
        },
        {
          "output_type": "display_data",
          "data": {
            "text/plain": [
              "Testing: 0it [00:00, ?it/s]"
            ],
            "application/vnd.jupyter.widget-view+json": {
              "version_major": 2,
              "version_minor": 0,
              "model_id": "5e331f66b1224b5ba8bacc3cff957cec"
            }
          },
          "metadata": {}
        }
      ],
      "source": [
        "googlenet_model, googlenet_results = train_model(\n",
        "    model_name=\"GoogleNet\",\n",
        "    model_hparams={\"num_classes\": 10, \"act_fn_name\": \"relu\"},\n",
        "    optimizer_name=\"Adam\",\n",
        "    optimizer_hparams={\"lr\": 1e-3, \"weight_decay\": 1e-4},\n",
        ")"
      ],
      "id": "b0cf3f32"
    },
    {
      "cell_type": "code",
      "execution_count": 19,
      "metadata": {
        "colab": {
          "base_uri": "https://localhost:8080/"
        },
        "id": "6ddac280",
        "outputId": "f2fe1bae-390f-45ee-991f-47ab0e66b314"
      },
      "outputs": [
        {
          "output_type": "stream",
          "name": "stdout",
          "text": [
            "GoogleNet Results {'test': 0.8970000147819519, 'val': 0.9039999842643738}\n"
          ]
        }
      ],
      "source": [
        "print(\"GoogleNet Results\", googlenet_results)"
      ],
      "id": "6ddac280"
    },
    {
      "cell_type": "markdown",
      "metadata": {
        "id": "78e81f18"
      },
      "source": [
        "## ResNet\n",
        "\n",
        "The [ResNet](https://arxiv.org/abs/1512.03385) paper is one of the  [most cited AI papers](https://www.natureindex.com/news-blog/google-scholar-reveals-most-influential-papers-research-citations-twenty-twenty), and has been the foundation for neural networks with more than 1,000 layers.\n",
        "Despite its simplicity, the idea of residual connections is highly effective as it supports stable gradient propagation through the network.\n",
        "Instead of modeling $x_{l+1}=F(x_{l})$, we model $x_{l+1}=x_{l}+F(x_{l})$ where $F$ is a non-linear mapping (usually a sequence of NN modules likes convolutions, activation functions, and normalizations).\n",
        "If we do backpropagation on such residual connections, we obtain:\n",
        "\n",
        "$$\\frac{\\partial x_{l+1}}{\\partial x_{l}} = \\mathbf{I} + \\frac{\\partial F(x_{l})}{\\partial x_{l}}$$\n",
        "\n",
        "The bias towards the identity matrix guarantees a stable gradient propagation being less effected by $F$ itself.\n",
        "There have been many variants of ResNet proposed, which mostly concern the function $F$, or operations applied on the sum.\n",
        "In this tutorial, we look at two of them: the original ResNet block, and the [Pre-Activation ResNet block](https://arxiv.org/abs/1603.05027).\n",
        "We visually compare the blocks below (figure credit - [He et al. ](https://arxiv.org/abs/1603.05027)):\n",
        "\n",
        "<center width=\"100%\"><img src=\"https://github.com/PyTorchLightning/lightning-tutorials/raw/main/course_UvA-DL/04-inception-resnet-densenet/resnet_block.svg\" style=\"display: block; margin-left: auto; margin-right: auto;\" width=\"300px\"/></center>\n",
        "\n",
        "The original ResNet block applies a non-linear activation function, usually ReLU, after the skip connection.\n",
        "In contrast, the pre-activation ResNet block applies the non-linearity at the beginning of $F$.\n",
        "Both have their advantages and disadvantages.\n",
        "For very deep network, however, the pre-activation ResNet has shown to perform better as the gradient flow is guaranteed to have the identity matrix as calculated above, and is not harmed by any non-linear activation applied to it.\n",
        "For comparison, in this notebook, we implement both ResNet types as shallow networks.\n",
        "\n",
        "Let's start with the original ResNet block.\n",
        "The visualization above already shows what layers are included in $F$.\n",
        "One special case we have to handle is when we want to reduce the image dimensions in terms of width and height.\n",
        "The basic ResNet block requires $F(x_{l})$ to be of the same shape as $x_{l}$.\n",
        "Thus, we need to change the dimensionality of $x_{l}$ as well before adding to $F(x_{l})$.\n",
        "The original implementation used an identity mapping with stride 2 and padded additional feature dimensions with 0.\n",
        "However, the more common implementation is to use a 1x1 convolution with stride 2 as it allows us to change the feature dimensionality while being efficient in parameter and computation cost.\n",
        "The code for the ResNet block is relatively simple, and shown below:"
      ],
      "id": "78e81f18"
    },
    {
      "cell_type": "code",
      "execution_count": 20,
      "metadata": {
        "id": "b527ad71"
      },
      "outputs": [],
      "source": [
        "\n",
        "\n",
        "class ResNetBlock(nn.Module):\n",
        "    def __init__(self, c_in, act_fn, subsample=False, c_out=-1):\n",
        "        \"\"\"\n",
        "        Inputs:\n",
        "            c_in - Number of input features\n",
        "            act_fn - Activation class constructor (e.g. nn.ReLU)\n",
        "            subsample - If True, we want to apply a stride inside the block and reduce the output shape by 2 in height and width\n",
        "            c_out - Number of output features. Note that this is only relevant if subsample is True, as otherwise, c_out = c_in\n",
        "        \"\"\"\n",
        "        super().__init__()\n",
        "        if not subsample:\n",
        "            c_out = c_in\n",
        "\n",
        "        # Network representing F\n",
        "        self.net = nn.Sequential(\n",
        "            nn.Conv2d(\n",
        "                c_in, c_out, kernel_size=3, padding=1, stride=1 if not subsample else 2, bias=False\n",
        "            ),  # No bias needed as the Batch Norm handles it\n",
        "            nn.BatchNorm2d(c_out),\n",
        "            act_fn(),\n",
        "            nn.Conv2d(c_out, c_out, kernel_size=3, padding=1, bias=False),\n",
        "            nn.BatchNorm2d(c_out),\n",
        "        )\n",
        "\n",
        "        # 1x1 convolution with stride 2 means we take the upper left value, and transform it to new output size\n",
        "        self.downsample = nn.Conv2d(c_in, c_out, kernel_size=1, stride=2) if subsample else None\n",
        "        self.act_fn = act_fn()\n",
        "\n",
        "    def forward(self, x):\n",
        "        z = self.net(x)\n",
        "        if self.downsample is not None:\n",
        "            x = self.downsample(x)\n",
        "        out = z + x\n",
        "        out = self.act_fn(out)\n",
        "        return out"
      ],
      "id": "b527ad71"
    },
    {
      "cell_type": "markdown",
      "metadata": {
        "id": "cda86ba2"
      },
      "source": [
        "The second block we implement is the pre-activation ResNet block.\n",
        "For this, we have to change the order of layer in `self.net`, and do not apply an activation function on the output.\n",
        "Additionally, the downsampling operation has to apply a non-linearity as well as the input, $x_l$, has not been processed by a non-linearity yet.\n",
        "Hence, the block looks as follows:"
      ],
      "id": "cda86ba2"
    },
    {
      "cell_type": "code",
      "execution_count": 21,
      "metadata": {
        "id": "47ef37e0"
      },
      "outputs": [],
      "source": [
        "class PreActResNetBlock(nn.Module):\n",
        "    def __init__(self, c_in, act_fn, subsample=False, c_out=-1):\n",
        "        \"\"\"\n",
        "        Inputs:\n",
        "            c_in - Number of input features\n",
        "            act_fn - Activation class constructor (e.g. nn.ReLU)\n",
        "            subsample - If True, we want to apply a stride inside the block and reduce the output shape by 2 in height and width\n",
        "            c_out - Number of output features. Note that this is only relevant if subsample is True, as otherwise, c_out = c_in\n",
        "        \"\"\"\n",
        "        super().__init__()\n",
        "        if not subsample:\n",
        "            c_out = c_in\n",
        "\n",
        "        # Network representing F\n",
        "        self.net = nn.Sequential(\n",
        "            nn.BatchNorm2d(c_in),\n",
        "            act_fn(),\n",
        "            nn.Conv2d(c_in, c_out, kernel_size=3, padding=1, stride=1 if not subsample else 2, bias=False),\n",
        "            nn.BatchNorm2d(c_out),\n",
        "            act_fn(),\n",
        "            nn.Conv2d(c_out, c_out, kernel_size=3, padding=1, bias=False),\n",
        "        )\n",
        "\n",
        "        # 1x1 convolution needs to apply non-linearity as well as not done on skip connection\n",
        "        self.downsample = (\n",
        "            nn.Sequential(nn.BatchNorm2d(c_in), act_fn(), nn.Conv2d(c_in, c_out, kernel_size=1, stride=2, bias=False))\n",
        "            if subsample\n",
        "            else None\n",
        "        )\n",
        "\n",
        "    def forward(self, x):\n",
        "        z = self.net(x)\n",
        "        if self.downsample is not None:\n",
        "            x = self.downsample(x)\n",
        "        out = z + x\n",
        "        return out"
      ],
      "id": "47ef37e0"
    },
    {
      "cell_type": "markdown",
      "metadata": {
        "id": "2cb173cb"
      },
      "source": [
        "Similarly to the model selection, we define a dictionary to create a mapping from string to block class.\n",
        "We will use the string name as hyperparameter value in our model to choose between the ResNet blocks.\n",
        "Feel free to implement any other ResNet block type and add it here as well."
      ],
      "id": "2cb173cb"
    },
    {
      "cell_type": "code",
      "execution_count": 22,
      "metadata": {
        "id": "ac6ef4d6"
      },
      "outputs": [],
      "source": [
        "resnet_blocks_by_name = {\"ResNetBlock\": ResNetBlock, \"PreActResNetBlock\": PreActResNetBlock}"
      ],
      "id": "ac6ef4d6"
    },
    {
      "cell_type": "markdown",
      "metadata": {
        "id": "0954d490"
      },
      "source": [
        "The overall ResNet architecture consists of stacking multiple ResNet blocks, of which some are downsampling the input.\n",
        "When talking about ResNet blocks in the whole network, we usually group them by the same output shape.\n",
        "Hence, if we say the ResNet has `[3,3,3]` blocks, it means that we have 3 times a group of 3 ResNet blocks, where a subsampling is taking place in the fourth and seventh block.\n",
        "The ResNet with `[3,3,3]` blocks on CIFAR10 is visualized below.\n",
        "\n",
        "<center width=\"100%\"><img src=\"https://github.com/PyTorchLightning/lightning-tutorials/raw/main/course_UvA-DL/04-inception-resnet-densenet/resnet_notation.svg\" width=\"500px\"></center>\n",
        "\n",
        "The three groups operate on the resolutions $32\\times32$, $16\\times16$ and $8\\times8$ respectively.\n",
        "The blocks in orange denote ResNet blocks with downsampling.\n",
        "The same notation is used by many other implementations such as in the [torchvision library](https://pytorch.org/vision/0.11/models.html#torchvision.models.resnet18) from PyTorch.\n",
        "Thus, our code looks as follows:"
      ],
      "id": "0954d490"
    },
    {
      "cell_type": "code",
      "execution_count": 23,
      "metadata": {
        "id": "d3cb116e"
      },
      "outputs": [],
      "source": [
        "class ResNet(nn.Module):\n",
        "    def __init__(\n",
        "        self,\n",
        "        num_classes=10,\n",
        "        num_blocks=[3, 3, 3],\n",
        "        c_hidden=[16, 32, 64],\n",
        "        act_fn_name=\"relu\",\n",
        "        block_name=\"ResNetBlock\",\n",
        "        **kwargs,\n",
        "    ):\n",
        "        \"\"\"\n",
        "        Inputs:\n",
        "            num_classes - Number of classification outputs (10 for CIFAR10)\n",
        "            num_blocks - List with the number of ResNet blocks to use. The first block of each group uses downsampling, except the first.\n",
        "            c_hidden - List with the hidden dimensionalities in the different blocks. Usually multiplied by 2 the deeper we go.\n",
        "            act_fn_name - Name of the activation function to use, looked up in \"act_fn_by_name\"\n",
        "            block_name - Name of the ResNet block, looked up in \"resnet_blocks_by_name\"\n",
        "        \"\"\"\n",
        "        super().__init__()\n",
        "        assert block_name in resnet_blocks_by_name\n",
        "        self.hparams = SimpleNamespace(\n",
        "            num_classes=num_classes,\n",
        "            c_hidden=c_hidden,\n",
        "            num_blocks=num_blocks,\n",
        "            act_fn_name=act_fn_name,\n",
        "            act_fn=act_fn_by_name[act_fn_name],\n",
        "            block_class=resnet_blocks_by_name[block_name],\n",
        "        )\n",
        "        self._create_network()\n",
        "        self._init_params()\n",
        "\n",
        "    def _create_network(self):\n",
        "        c_hidden = self.hparams.c_hidden\n",
        "\n",
        "        # A first convolution on the original image to scale up the channel size\n",
        "        if self.hparams.block_class == PreActResNetBlock:  # => Don't apply non-linearity on output\n",
        "            self.input_net = nn.Sequential(nn.Conv2d(3, c_hidden[0], kernel_size=3, padding=1, bias=False))\n",
        "        else:\n",
        "            self.input_net = nn.Sequential(\n",
        "                nn.Conv2d(3, c_hidden[0], kernel_size=3, padding=1, bias=False),\n",
        "                nn.BatchNorm2d(c_hidden[0]),\n",
        "                self.hparams.act_fn(),\n",
        "            )\n",
        "\n",
        "        # Creating the ResNet blocks\n",
        "        blocks = []\n",
        "        for block_idx, block_count in enumerate(self.hparams.num_blocks):\n",
        "            for bc in range(block_count):\n",
        "                # Subsample the first block of each group, except the very first one.\n",
        "                subsample = bc == 0 and block_idx > 0\n",
        "                blocks.append(\n",
        "                    self.hparams.block_class(\n",
        "                        c_in=c_hidden[block_idx if not subsample else (block_idx - 1)],\n",
        "                        act_fn=self.hparams.act_fn,\n",
        "                        subsample=subsample,\n",
        "                        c_out=c_hidden[block_idx],\n",
        "                    )\n",
        "                )\n",
        "        self.blocks = nn.Sequential(*blocks)\n",
        "\n",
        "        # Mapping to classification output\n",
        "        self.output_net = nn.Sequential(\n",
        "            nn.AdaptiveAvgPool2d((1, 1)), nn.Flatten(), nn.Linear(c_hidden[-1], self.hparams.num_classes)\n",
        "        )\n",
        "\n",
        "    def _init_params(self):\n",
        "        # Based on our discussion in Tutorial 4, we should initialize the convolutions according to the activation function\n",
        "        # Fan-out focuses on the gradient distribution, and is commonly used in ResNets\n",
        "        for m in self.modules():\n",
        "            if isinstance(m, nn.Conv2d):\n",
        "                nn.init.kaiming_normal_(m.weight, mode=\"fan_out\", nonlinearity=self.hparams.act_fn_name)\n",
        "            elif isinstance(m, nn.BatchNorm2d):\n",
        "                nn.init.constant_(m.weight, 1)\n",
        "                nn.init.constant_(m.bias, 0)\n",
        "\n",
        "    def forward(self, x):\n",
        "        x = self.input_net(x)\n",
        "        x = self.blocks(x)\n",
        "        x = self.output_net(x)\n",
        "        return x"
      ],
      "id": "d3cb116e"
    },
    {
      "cell_type": "markdown",
      "metadata": {
        "id": "e53188e1"
      },
      "source": [
        "We also need to add the new ResNet class to our model dictionary:"
      ],
      "id": "e53188e1"
    },
    {
      "cell_type": "code",
      "execution_count": 24,
      "metadata": {
        "id": "cbb8107c"
      },
      "outputs": [],
      "source": [
        "model_dict[\"ResNet\"] = ResNet"
      ],
      "id": "cbb8107c"
    },
    {
      "cell_type": "markdown",
      "metadata": {
        "id": "803a08e3"
      },
      "source": [
        "Finally, we can train our ResNet models.\n",
        "One difference to the GoogleNet training is that we explicitly use SGD with Momentum as optimizer instead of Adam.\n",
        "Adam often leads to a slightly worse accuracy on plain, shallow ResNets.\n",
        "It is not 100% clear why Adam performs worse in this context, but one possible explanation is related to ResNet's loss surface.\n",
        "ResNet has been shown to produce smoother loss surfaces than networks without skip connection (see [Li et al., 2018](https://arxiv.org/pdf/1712.09913.pdf) for details).\n",
        "A possible visualization of the loss surface with/out skip connections is below (figure credit - [Li et al. ](https://arxiv.org/pdf/1712.09913.pdf)):\n",
        "\n",
        "<center width=\"100%\"><img src=\"https://github.com/PyTorchLightning/lightning-tutorials/raw/main/course_UvA-DL/04-inception-resnet-densenet/resnet_loss_surface.png\" style=\"display: block; margin-left: auto; margin-right: auto;\" width=\"600px\"/></center>\n",
        "\n",
        "The $x$ and $y$ axis shows a projection of the parameter space, and the $z$ axis shows the loss values achieved by different parameter values.\n",
        "On smooth surfaces like the one on the right, we might not require an adaptive learning rate as Adam provides.\n",
        "Instead, Adam can get stuck in local optima while SGD finds the wider minima that tend to generalize better.\n",
        "However, to answer this question in detail, we would need an extra tutorial because it is not easy to answer.\n",
        "For now, we conclude: for ResNet architectures, consider the optimizer to be an important hyperparameter, and try training with both Adam and SGD.\n",
        "Let's train the model below with SGD:"
      ],
      "id": "803a08e3"
    },
    {
      "cell_type": "code",
      "execution_count": 25,
      "metadata": {
        "colab": {
          "base_uri": "https://localhost:8080/",
          "height": 630,
          "referenced_widgets": [
            "9efea0c3ed4c451c86055bc274004f6c",
            "25ce8eca3d6c430a99d142984bddd4ec",
            "e1bf3bb9e0f143f99f4116454231c3e8",
            "64cd2e62bcf84b0f841b2b30331f8c1b",
            "e5fd77a8a24149d7bfa8b15dab0d9d38",
            "b90126d5d8114421a41d4f2f31163798",
            "2d3a152a3f344bcb8721ecae553f0974",
            "75801fa78c8340bd953c440041a07817",
            "1445346af8fb46c2a236f3f681c11418",
            "c9fc06d086074e30b463cbe473ff022a",
            "11be58e5c92a466f8267f2b9945c7a59",
            "ddec86ff8a2a4d2fb38650f24b770075",
            "d644fc8c69b1475a8cb9da0efb14207b",
            "684bd4fc17fc4ef59053442e330e498c",
            "37874ad4a29d4bffa6914ad797709ac8",
            "e8eb9094deb24520aafa1ef199724083",
            "322c84cac6de428f96041490012afef5",
            "60d863e363ae47aea2cf315aa9e5d5d9",
            "fd2b36f0c3a9478d94d81768bdff5c2c",
            "c900b035c1414f699a610f1fcc7f3950",
            "0af84025e357405088e79f3e1b6c8b89",
            "e7d8f1eaf68049e39e8f1865268bd6d7"
          ]
        },
        "id": "9b596385",
        "outputId": "e8b7faa5-25f1-42a7-c1ed-1de18fb22a3c"
      },
      "outputs": [
        {
          "output_type": "stream",
          "name": "stderr",
          "text": [
            "/usr/local/lib/python3.7/dist-packages/pytorch_lightning/trainer/connectors/callback_connector.py:97: LightningDeprecationWarning: Setting `Trainer(progress_bar_refresh_rate=1)` is deprecated in v1.5 and will be removed in v1.7. Please pass `pytorch_lightning.callbacks.progress.TQDMProgressBar` with `refresh_rate` directly to the Trainer's `callbacks` argument instead. Or, to disable the progress bar pass `enable_progress_bar = False` to the Trainer.\n",
            "  f\"Setting `Trainer(progress_bar_refresh_rate={progress_bar_refresh_rate})` is deprecated in v1.5 and\"\n",
            "GPU available: False, used: False\n",
            "TPU available: False, using: 0 TPU cores\n",
            "IPU available: False, using: 0 IPUs\n",
            "HPU available: False, using: 0 HPUs\n",
            "Missing logger folder: saved_models/ConvNets/ResNet/lightning_logs\n"
          ]
        },
        {
          "output_type": "stream",
          "name": "stdout",
          "text": [
            "Found pretrained model at saved_models/ConvNets/ResNet.ckpt, loading...\n"
          ]
        },
        {
          "output_type": "display_data",
          "data": {
            "text/plain": [
              "Testing: 0it [00:00, ?it/s]"
            ],
            "application/vnd.jupyter.widget-view+json": {
              "version_major": 2,
              "version_minor": 0,
              "model_id": "9efea0c3ed4c451c86055bc274004f6c"
            }
          },
          "metadata": {}
        },
        {
          "output_type": "stream",
          "name": "stderr",
          "text": [
            "/usr/local/lib/python3.7/dist-packages/torch/utils/data/dataloader.py:477: UserWarning: This DataLoader will create 4 worker processes in total. Our suggested max number of worker in current system is 2, which is smaller than what this DataLoader is going to create. Please be aware that excessive worker creation might get DataLoader running slow or even freeze, lower the worker number to avoid potential slowness/freeze if necessary.\n",
            "  cpuset_checked))\n"
          ]
        },
        {
          "output_type": "display_data",
          "data": {
            "text/plain": [
              "Testing: 0it [00:00, ?it/s]"
            ],
            "application/vnd.jupyter.widget-view+json": {
              "version_major": 2,
              "version_minor": 0,
              "model_id": "ddec86ff8a2a4d2fb38650f24b770075"
            }
          },
          "metadata": {}
        }
      ],
      "source": [
        "resnet_model, resnet_results = train_model(\n",
        "    model_name=\"ResNet\",\n",
        "    model_hparams={\"num_classes\": 10, \"c_hidden\": [16, 32, 64], \"num_blocks\": [3, 3, 3], \"act_fn_name\": \"relu\"},\n",
        "    optimizer_name=\"SGD\",\n",
        "    optimizer_hparams={\"lr\": 0.1, \"momentum\": 0.9, \"weight_decay\": 1e-4},\n",
        ")"
      ],
      "id": "9b596385"
    },
    {
      "cell_type": "markdown",
      "metadata": {
        "id": "1e33d947"
      },
      "source": [
        "Let's also train the pre-activation ResNet as comparison:"
      ],
      "id": "1e33d947"
    },
    {
      "cell_type": "code",
      "execution_count": null,
      "metadata": {
        "colab": {
          "base_uri": "https://localhost:8080/",
          "height": 630,
          "referenced_widgets": [
            "ca60b52e10844ff98e5c47f5f7fe96d8",
            "e9276e972f7f4caea10bd2b713e1552d",
            "bff2cb9965464d37889fa3dede5b0303",
            "6af5cef2ebf244eba55db6899aa650f6",
            "924a1c386c714b50b8e688422237d12d",
            "4d7435b99625499bb5f319f791c3d9cc",
            "923d5501a4ee45c891cb502d46708b8c",
            "22721621eb634169a273b07ebfe7f428",
            "ce20d4661b8d493ca8efd5ac57c275ca",
            "0baa1c8f18cc46dfb9a61fab81bcb37a",
            "690e1d8d880f46d38b8dd296484a9391",
            "91de11d92a30402b8aa18ab85be21671",
            "46085d675abf46daac5e722550f44204",
            "dbd279f4cfdc4ec48c3fab945d082f82",
            "46b6be0ac66643c39d6270d3cc3eee16",
            "1829f28f4e274cd280da21dbc98674cf",
            "cce3fc5c6b5e4969a2b4ba89e5b5b239",
            "6365c72b05a347d49fef8d599c19626c",
            "f12329ca20144ac5af9276f1743ca58d",
            "7a896a3c94a0463c92272ba06cd40724",
            "89774f3f4e4246a3bddcbe64aa7178bd",
            "20c882e1b7594f2c85c14960743bbc92"
          ]
        },
        "id": "e0300f45",
        "outputId": "d005fb77-0b9a-4325-e7f9-b8e555384c69"
      },
      "outputs": [
        {
          "output_type": "stream",
          "name": "stderr",
          "text": [
            "/usr/local/lib/python3.7/dist-packages/pytorch_lightning/trainer/connectors/callback_connector.py:97: LightningDeprecationWarning: Setting `Trainer(progress_bar_refresh_rate=1)` is deprecated in v1.5 and will be removed in v1.7. Please pass `pytorch_lightning.callbacks.progress.TQDMProgressBar` with `refresh_rate` directly to the Trainer's `callbacks` argument instead. Or, to disable the progress bar pass `enable_progress_bar = False` to the Trainer.\n",
            "  f\"Setting `Trainer(progress_bar_refresh_rate={progress_bar_refresh_rate})` is deprecated in v1.5 and\"\n",
            "GPU available: False, used: False\n",
            "TPU available: False, using: 0 TPU cores\n",
            "IPU available: False, using: 0 IPUs\n",
            "HPU available: False, using: 0 HPUs\n",
            "Missing logger folder: saved_models/ConvNets/ResNetPreAct/lightning_logs\n"
          ]
        },
        {
          "output_type": "stream",
          "name": "stdout",
          "text": [
            "Found pretrained model at saved_models/ConvNets/ResNetPreAct.ckpt, loading...\n"
          ]
        },
        {
          "output_type": "display_data",
          "data": {
            "text/plain": [
              "Testing: 0it [00:00, ?it/s]"
            ],
            "application/vnd.jupyter.widget-view+json": {
              "version_major": 2,
              "version_minor": 0,
              "model_id": "ca60b52e10844ff98e5c47f5f7fe96d8"
            }
          },
          "metadata": {}
        },
        {
          "output_type": "stream",
          "name": "stderr",
          "text": [
            "/usr/local/lib/python3.7/dist-packages/torch/utils/data/dataloader.py:477: UserWarning: This DataLoader will create 4 worker processes in total. Our suggested max number of worker in current system is 2, which is smaller than what this DataLoader is going to create. Please be aware that excessive worker creation might get DataLoader running slow or even freeze, lower the worker number to avoid potential slowness/freeze if necessary.\n",
            "  cpuset_checked))\n"
          ]
        },
        {
          "output_type": "display_data",
          "data": {
            "text/plain": [
              "Testing: 0it [00:00, ?it/s]"
            ],
            "application/vnd.jupyter.widget-view+json": {
              "version_major": 2,
              "version_minor": 0,
              "model_id": "91de11d92a30402b8aa18ab85be21671"
            }
          },
          "metadata": {}
        }
      ],
      "source": [
        "resnetpreact_model, resnetpreact_results = train_model(\n",
        "    model_name=\"ResNet\",\n",
        "    model_hparams={\n",
        "        \"num_classes\": 10,\n",
        "        \"c_hidden\": [16, 32, 64],\n",
        "        \"num_blocks\": [3, 3, 3],\n",
        "        \"act_fn_name\": \"relu\",\n",
        "        \"block_name\": \"PreActResNetBlock\",\n",
        "    },\n",
        "    optimizer_name=\"SGD\",\n",
        "    optimizer_hparams={\"lr\": 0.1, \"momentum\": 0.9, \"weight_decay\": 1e-4},\n",
        "    save_name=\"ResNetPreAct\",\n",
        ")"
      ],
      "id": "e0300f45"
    },
    {
      "cell_type": "markdown",
      "metadata": {
        "id": "11369005"
      },
      "source": [
        "### Tensorboard log\n",
        "\n",
        "Similarly to our GoogleNet model, we also have a TensorBoard log for the ResNet model. We can open it below."
      ],
      "id": "11369005"
    },
    {
      "cell_type": "code",
      "execution_count": null,
      "metadata": {
        "id": "4e40d50c"
      },
      "outputs": [],
      "source": [
        "# Opens tensorboard in notebook. Adjust the path to your CHECKPOINT_PATH! Feel free to change \"ResNet\" to \"ResNetPreAct\"\n",
        "%tensorboard --logdir ../saved_models/tutorial5/tensorboards/ResNet/"
      ],
      "id": "4e40d50c"
    },
    {
      "cell_type": "markdown",
      "metadata": {
        "id": "a0d61318"
      },
      "source": [
        "<center width=\"100%\"><img src=\"https://github.com/PyTorchLightning/lightning-tutorials/raw/main/course_UvA-DL/04-inception-resnet-densenet/tensorboard_screenshot_ResNet.png\" width=\"1000px\"></center>\n",
        "\n",
        "Feel free to explore the TensorBoard yourself, including the computation graph.\n",
        "In general, we can see that with SGD, the ResNet has a higher training loss than the GoogleNet in the first stage of the training.\n",
        "After reducing the learning rate however, the model achieves even higher validation accuracies.\n",
        "We compare the precise scores at the end of the notebook."
      ],
      "id": "a0d61318"
    },
    {
      "cell_type": "markdown",
      "metadata": {
        "id": "09eda86c"
      },
      "source": [
        "## DenseNet\n",
        "\n",
        "<div class=\"center-wrapper\"><div class=\"video-wrapper\"><iframe src=\"https://www.youtube.com/embed/ELEqNwv9vkE\" title=\"YouTube video player\" frameborder=\"0\" allow=\"accelerometer; autoplay; clipboard-write; encrypted-media; gyroscope; picture-in-picture\" allowfullscreen></iframe></div></div>\n",
        "\n",
        "[DenseNet](https://arxiv.org/abs/1608.06993) is another architecture for enabling very deep neural networks and takes a slightly different perspective on residual connections.\n",
        "Instead of modeling the difference between layers, DenseNet considers residual connections as a possible way to reuse features across layers, removing any necessity to learn redundant feature maps.\n",
        "If we go deeper into the network, the model learns abstract features to recognize patterns.\n",
        "However, some complex patterns consist of a combination of abstract features (e.g. hand, face, etc.\n",
        "), and low-level features (e.g. edges, basic color, etc.).\n",
        "To find these low-level features in the deep layers, standard CNNs have to learn copy such feature maps, which wastes a lot of parameter complexity.\n",
        "DenseNet provides an efficient way of reusing features by having each convolution depends on all previous input features, but add only a small amount of filters to it.\n",
        "See the figure below for an illustration (figure credit - [Hu et al. ](https://arxiv.org/abs/1608.06993)):\n",
        "\n",
        "<center width=\"100%\"><img src=\"https://github.com/PyTorchLightning/lightning-tutorials/raw/main/course_UvA-DL/04-inception-resnet-densenet/densenet_block.svg\" style=\"display: block; margin-left: auto; margin-right: auto;\" width=\"500px\"/></center>\n",
        "\n",
        "Lapisan terakhir, yang disebut lapisan transisi, bertanggung jawab untuk mengurangi dimensi peta fitur dalam tinggi, lebar, dan ukuran saluran.\n",
        "Meskipun secara teknis merusak identitas backpropagation, hanya ada beberapa di jaringan sehingga tidak banyak mempengaruhi aliran gradien.\n",
        "\n",
        "lapisan di DenseNet terbagi menjadi tiga bagian yakni `DenseLayer`,`DenseBlock`,dan  `TransitionLayer`.\n",
        "\n",
        "Modul `DenseLayer` mengimplementasikan satu lapisan di dalam blok padat.\n",
        "Ini menerapkan konvolusi 1x1 untuk pengurangan dimensi dengan konvolusi 3x3 berikutnya.\n",
        "Saluran keluaran digabungkan ke aslinya dan dikembalikan.Kemudian,  ditenerapkan bagian Normalisasi sebagai lapisan pertama dari setiap blok.\n",
        "Ini memungkinkan aktivasi yang sedikit berbeda untuk fitur yang sama ke lapisan yang berbeda, tergantung pada apa yang dibutuhkan.\n",
        "\n",
        "\n",
        "\n"
      ],
      "id": "09eda86c"
    },
    {
      "cell_type": "code",
      "execution_count": null,
      "metadata": {
        "id": "1662bc0a"
      },
      "outputs": [],
      "source": [
        "class DenseLayer(nn.Module):\n",
        "    def __init__(self, c_in, bn_size, growth_rate, act_fn):\n",
        "        \"\"\"\n",
        "        Inputs:\n",
        "            c_in - Number of input channels\n",
        "            bn_size - Bottleneck size (factor of growth rate) for the output of the 1x1 convolution. Typically between 2 and 4.\n",
        "            growth_rate - Number of output channels of the 3x3 convolution\n",
        "            act_fn - Activation class constructor (e.g. nn.ReLU)\n",
        "        \"\"\"\n",
        "        super().__init__()\n",
        "        self.net = nn.Sequential(\n",
        "            nn.BatchNorm2d(c_in),\n",
        "            act_fn(),\n",
        "            nn.Conv2d(c_in, bn_size * growth_rate, kernel_size=1, bias=False),\n",
        "            nn.BatchNorm2d(bn_size * growth_rate),\n",
        "            act_fn(),\n",
        "            nn.Conv2d(bn_size * growth_rate, growth_rate, kernel_size=3, padding=1, bias=False),\n",
        "        )\n",
        "\n",
        "    def forward(self, x):\n",
        "        out = self.net(x)\n",
        "        out = torch.cat([out, x], dim=1)\n",
        "        return out"
      ],
      "id": "1662bc0a"
    },
    {
      "cell_type": "markdown",
      "metadata": {
        "id": "6e8d8992"
      },
      "source": [
        "Modul `DenseBlock` merangkum beberapa lapisan padat yang diterapkan secara berurutan. Setiap lapisan padat mengambil input asli sebagai input yang digabungkan dengan peta fitur semua lapisan sebelumnya:"
      ],
      "id": "6e8d8992"
    },
    {
      "cell_type": "code",
      "execution_count": null,
      "metadata": {
        "id": "7a147e06"
      },
      "outputs": [],
      "source": [
        "class DenseBlock(nn.Module):\n",
        "    def __init__(self, c_in, num_layers, bn_size, growth_rate, act_fn):\n",
        "        \"\"\"\n",
        "        Inputs:\n",
        "            c_in - Number of input channels\n",
        "            num_layers - Number of dense layers to apply in the block\n",
        "            bn_size - Bottleneck size to use in the dense layers\n",
        "            growth_rate - Growth rate to use in the dense layers\n",
        "            act_fn - Activation function to use in the dense layers\n",
        "        \"\"\"\n",
        "        super().__init__()\n",
        "        layers = []\n",
        "        for layer_idx in range(num_layers):\n",
        "            # Input channels are original plus the feature maps from previous layers\n",
        "            layer_c_in = c_in + layer_idx * growth_rate\n",
        "            layers.append(DenseLayer(c_in=layer_c_in, bn_size=bn_size, growth_rate=growth_rate, act_fn=act_fn))\n",
        "        self.block = nn.Sequential(*layers)\n",
        "\n",
        "    def forward(self, x):\n",
        "        out = self.block(x)\n",
        "        return out"
      ],
      "id": "7a147e06"
    },
    {
      "cell_type": "markdown",
      "metadata": {
        "id": "1589259d"
      },
      "source": [
        "Terakhir, `TransitionLayer` mengambil sebagai input output akhir dari blok padat dan mengurangi dimensi salurannya menggunakan konvolusi 1x1.\n",
        "Untuk mengurangi dimensi tinggi dan lebar, kita mengambil pendekatan yang sedikit berbeda dari pada ResNet dan menerapkan penyatuan rata-rata dengan ukuran kernel 2 dan langkah 2.\n",
        "Ini karena tidak memiliki koneksi tambahan ke output yang akan mempertimbangkan patch 2x2 penuh alih-alih satu nilai.\n",
        "Selain itu, parameter ini lebih efisien daripada menggunakan konvolusi 3x3 dengan langkah 2.\n",
        "Dengan demikian, lapisan diimplementasikan sebagai berikut:"
      ],
      "id": "1589259d"
    },
    {
      "cell_type": "code",
      "execution_count": null,
      "metadata": {
        "id": "6927a8b6"
      },
      "outputs": [],
      "source": [
        "class TransitionLayer(nn.Module):\n",
        "    def __init__(self, c_in, c_out, act_fn):\n",
        "        super().__init__()\n",
        "        self.transition = nn.Sequential(\n",
        "            nn.BatchNorm2d(c_in),\n",
        "            act_fn(),\n",
        "            nn.Conv2d(c_in, c_out, kernel_size=1, bias=False),\n",
        "            nn.AvgPool2d(kernel_size=2, stride=2),  # Average the output for each 2x2 pixel group\n",
        "        )\n",
        "\n",
        "    def forward(self, x):\n",
        "        return self.transition(x)"
      ],
      "id": "6927a8b6"
    },
    {
      "cell_type": "markdown",
      "metadata": {
        "id": "75acc202"
      },
      "source": [
        "Disini kita dapat menggabungkan semuanya dan membuat DenseNet untuk menentukan jumlah lapisan maka akan menggunakan notasi yang sama seperti di ResNets dan meneruskan daftar int yang mewakili jumlah lapisan per blok.\n",
        "Setelah setiap blok padat kecuali yang terakhir akan  menerapkan lapisan transisi untuk mengurangi dimensi sebesar 2."
      ],
      "id": "75acc202"
    },
    {
      "cell_type": "code",
      "execution_count": null,
      "metadata": {
        "id": "71275a7a"
      },
      "outputs": [],
      "source": [
        "class DenseNet(nn.Module):\n",
        "    def __init__(\n",
        "        self, num_classes=10, num_layers=[6, 6, 6, 6], bn_size=2, growth_rate=16, act_fn_name=\"relu\", **kwargs\n",
        "    ):\n",
        "        super().__init__()\n",
        "        self.hparams = SimpleNamespace(\n",
        "            num_classes=num_classes,\n",
        "            num_layers=num_layers,\n",
        "            bn_size=bn_size,\n",
        "            growth_rate=growth_rate,\n",
        "            act_fn_name=act_fn_name,\n",
        "            act_fn=act_fn_by_name[act_fn_name],\n",
        "        )\n",
        "        self._create_network()\n",
        "        self._init_params()\n",
        "\n",
        "    def _create_network(self):\n",
        "        c_hidden = self.hparams.growth_rate * self.hparams.bn_size  # The start number of hidden channels\n",
        "\n",
        "        # A first convolution on the original image to scale up the channel size\n",
        "        self.input_net = nn.Sequential(\n",
        "            # No batch norm or activation function as done inside the Dense layers\n",
        "            nn.Conv2d(3, c_hidden, kernel_size=3, padding=1)\n",
        "        )\n",
        "\n",
        "        # Creating the dense blocks, eventually including transition layers\n",
        "        blocks = []\n",
        "        for block_idx, num_layers in enumerate(self.hparams.num_layers):\n",
        "            blocks.append(\n",
        "                DenseBlock(\n",
        "                    c_in=c_hidden,\n",
        "                    num_layers=num_layers,\n",
        "                    bn_size=self.hparams.bn_size,\n",
        "                    growth_rate=self.hparams.growth_rate,\n",
        "                    act_fn=self.hparams.act_fn,\n",
        "                )\n",
        "            )\n",
        "            c_hidden = c_hidden + num_layers * self.hparams.growth_rate  # Overall output of the dense block\n",
        "            if block_idx < len(self.hparams.num_layers) - 1:  # Don't apply transition layer on last block\n",
        "                blocks.append(TransitionLayer(c_in=c_hidden, c_out=c_hidden // 2, act_fn=self.hparams.act_fn))\n",
        "                c_hidden = c_hidden // 2\n",
        "\n",
        "        self.blocks = nn.Sequential(*blocks)\n",
        "\n",
        "        # Mapping to classification output\n",
        "        self.output_net = nn.Sequential(\n",
        "            nn.BatchNorm2d(c_hidden),  # The features have not passed a non-linearity until here.\n",
        "            self.hparams.act_fn(),\n",
        "            nn.AdaptiveAvgPool2d((1, 1)),\n",
        "            nn.Flatten(),\n",
        "            nn.Linear(c_hidden, self.hparams.num_classes),\n",
        "        )\n",
        "\n",
        "    def _init_params(self):\n",
        "        # Based on our discussion in Tutorial 4, we should initialize the\n",
        "        # convolutions according to the activation function\n",
        "        for m in self.modules():\n",
        "            if isinstance(m, nn.Conv2d):\n",
        "                nn.init.kaiming_normal_(m.weight, nonlinearity=self.hparams.act_fn_name)\n",
        "            elif isinstance(m, nn.BatchNorm2d):\n",
        "                nn.init.constant_(m.weight, 1)\n",
        "                nn.init.constant_(m.bias, 0)\n",
        "\n",
        "    def forward(self, x):\n",
        "        x = self.input_net(x)\n",
        "        x = self.blocks(x)\n",
        "        x = self.output_net(x)\n",
        "        return x"
      ],
      "id": "71275a7a"
    },
    {
      "cell_type": "code",
      "execution_count": null,
      "metadata": {
        "id": "55a4659f"
      },
      "outputs": [],
      "source": [
        "model_dict[\"DenseNet\"] = DenseNet #Menggunakan model DenseNet"
      ],
      "id": "55a4659f"
    },
    {
      "cell_type": "markdown",
      "metadata": {
        "id": "a2039955"
      },
      "source": [
        "\n",
        "Berbeda dengan ResNet, DenseNet tidak menunjukkan masalah apa pun dengan Adam, dan karenanya kami melatihnya dengan pengoptimal ini.\n",
        "Hyperparameter lainnya dipilih untuk menghasilkan jaringan dengan ukuran parameter yang sama seperti ResNet dan GoogleNet.\n",
        "Umumnya, ketika merancang jaringan yang sangat dalam, DenseNet lebih efisien parameter daripada ResNet sambil mencapai kinerja yang serupa atau bahkan lebih baik."
      ],
      "id": "a2039955"
    },
    {
      "cell_type": "code",
      "execution_count": null,
      "metadata": {
        "id": "009de06a"
      },
      "outputs": [],
      "source": [
        "densenet_model, densenet_results = train_model(\n",
        "    model_name=\"DenseNet\",\n",
        "    model_hparams={\n",
        "        \"num_classes\": 10,\n",
        "        \"num_layers\": [6, 6, 6, 6],\n",
        "        \"bn_size\": 2,\n",
        "        \"growth_rate\": 16,\n",
        "        \"act_fn_name\": \"relu\",\n",
        "    },\n",
        "    optimizer_name=\"Adam\",\n",
        "    optimizer_hparams={\"lr\": 1e-3, \"weight_decay\": 1e-4},\n",
        ")"
      ],
      "id": "009de06a"
    },
    {
      "cell_type": "markdown",
      "metadata": {
        "id": "74aaa70a"
      },
      "source": [
        "### Tensorboard log\n",
        "\n"
      ],
      "id": "74aaa70a"
    },
    {
      "cell_type": "code",
      "execution_count": null,
      "metadata": {
        "id": "c8328265"
      },
      "outputs": [],
      "source": [
        "# Opens tensorboard in notebook. Adjust the path to your CHECKPOINT_PATH! Feel free to change \"ResNet\" to \"ResNetPreAct\"\n",
        "%tensorboard --logdir ../saved_models/tutorial5/tensorboards/DenseNet/"
      ],
      "id": "c8328265"
    },
    {
      "cell_type": "markdown",
      "metadata": {
        "id": "c7693f6c"
      },
      "source": [
        "<center width=\"100%\"><img src=\"https://github.com/PyTorchLightning/lightning-tutorials/raw/main/course_UvA-DL/04-inception-resnet-densenet/tensorboard_screenshot_DenseNet.png\" width=\"1000px\"></center>\n",
        "\n",
        "The overall course of the validation accuracy and training loss resemble the training of GoogleNet, which is also related to training the network with Adam.\n",
        "Feel free to explore the training metrics yourself."
      ],
      "id": "c7693f6c"
    },
    {
      "cell_type": "markdown",
      "metadata": {
        "id": "50feff91"
      },
      "source": [
        "Kesimpulan dan Perbandingan"
      ],
      "id": "50feff91"
    },
    {
      "cell_type": "code",
      "execution_count": null,
      "metadata": {
        "id": "d49b4c40"
      },
      "outputs": [],
      "source": [
        "%%html\n",
        "<!-- Some HTML code to increase font size in the following table -->\n",
        "<style>\n",
        "th {font-size: 120%;}\n",
        "td {font-size: 120%;}\n",
        "</style>"
      ],
      "id": "d49b4c40"
    },
    {
      "cell_type": "code",
      "execution_count": null,
      "metadata": {
        "id": "775981b2"
      },
      "outputs": [],
      "source": [
        "all_models = [\n",
        "    (\"GoogleNet\", googlenet_results, googlenet_model),\n",
        "    (\"ResNet\", resnet_results, resnet_model),\n",
        "    (\"ResNetPreAct\", resnetpreact_results, resnetpreact_model),\n",
        "    (\"DenseNet\", densenet_results, densenet_model),\n",
        "]\n",
        "table = [\n",
        "    [\n",
        "        model_name,\n",
        "        f\"{100.0*model_results['val']:4.2f}%\",\n",
        "        f\"{100.0*model_results['test']:4.2f}%\",\n",
        "        f\"{sum(np.prod(p.shape) for p in model.parameters()):,}\",\n",
        "    ]\n",
        "    for model_name, model_results, model in all_models\n",
        "]\n",
        "display(\n",
        "    HTML(\n",
        "        tabulate.tabulate(table, tablefmt=\"html\", headers=[\"Model\", \"Val Accuracy\", \"Test Accuracy\", \"Num Parameters\"])\n",
        "    )\n",
        ")"
      ],
      "id": "775981b2"
    },
    {
      "cell_type": "code",
      "source": [
        ""
      ],
      "metadata": {
        "id": "b1lHviGIrMhY"
      },
      "id": "b1lHviGIrMhY",
      "execution_count": null,
      "outputs": []
    },
    {
      "cell_type": "markdown",
      "metadata": {
        "id": "408fad2b"
      },
      "source": [
        "\n",
        "### Model mana yang harus saya pilih ?\n",
        "\n",
        "Telah meninjau empat model yang berbeda. Biasanya, memulai dengan ResNet adalah ide yang bagus mengingat kinerja yang unggul dari kumpulan data CIFAR dan implementasinya yang sederhana. Selain itu, untuk nomor parameter yang kita pilih disini, ResNet adalah yang tercepat karena DenseNet dan GoogleNet memiliki lebih banyak lapisan yang diterapkan secara berurutan dalam implementasi primitif.\n",
        "Namun, jika memiliki tugas yang sangat sulit, seperti semantik\n",
        "segmentasi pada gambar HD, varian ResNet dan DenseNet yang lebih kompleks\n",
        "direkomendasikan."
      ],
      "id": "408fad2b"
    }
  ],
  "metadata": {
    "colab": {
      "name": "Mid Task Deep Learning - Inception_resnet_densenet.ipynb",
      "provenance": []
    },
    "jupytext": {
      "cell_metadata_filter": "colab_type,id,colab,-all",
      "formats": "ipynb,py:percent",
      "main_language": "python"
    },
    "kernelspec": {
      "display_name": "Python 3",
      "name": "python3"
    },
    "language_info": {
      "name": "python"
    },
    "papermill": {
      "default_parameters": {},
      "duration": 86.615962,
      "end_time": "2022-04-09T14:37:22.941551",
      "environment_variables": {},
      "exception": null,
      "input_path": "course_UvA-DL/04-inception-resnet-densenet/Inception_ResNet_DenseNet.ipynb",
      "output_path": ".notebooks/course_UvA-DL/04-inception-resnet-densenet.ipynb",
      "parameters": {},
      "start_time": "2022-04-09T14:35:56.325589",
      "version": "2.3.4"
    },
    "widgets": {
      "application/vnd.jupyter.widget-state+json": {
        "7cf72b4d4bd84bffa856cc9b2bf801da": {
          "model_module": "@jupyter-widgets/controls",
          "model_name": "HBoxModel",
          "model_module_version": "1.5.0",
          "state": {
            "_dom_classes": [],
            "_model_module": "@jupyter-widgets/controls",
            "_model_module_version": "1.5.0",
            "_model_name": "HBoxModel",
            "_view_count": null,
            "_view_module": "@jupyter-widgets/controls",
            "_view_module_version": "1.5.0",
            "_view_name": "HBoxView",
            "box_style": "",
            "children": [
              "IPY_MODEL_d44b8945e2e043adbaaf2c642f7d7476",
              "IPY_MODEL_98a2b378ceb149b9b4dd1f55e95bd7b6",
              "IPY_MODEL_396d761c884240be8c3cc39711c99bdb"
            ],
            "layout": "IPY_MODEL_28c48c7bee96470baf2bd6a558020bff"
          }
        },
        "d44b8945e2e043adbaaf2c642f7d7476": {
          "model_module": "@jupyter-widgets/controls",
          "model_name": "HTMLModel",
          "model_module_version": "1.5.0",
          "state": {
            "_dom_classes": [],
            "_model_module": "@jupyter-widgets/controls",
            "_model_module_version": "1.5.0",
            "_model_name": "HTMLModel",
            "_view_count": null,
            "_view_module": "@jupyter-widgets/controls",
            "_view_module_version": "1.5.0",
            "_view_name": "HTMLView",
            "description": "",
            "description_tooltip": null,
            "layout": "IPY_MODEL_58cd444774154b02a0ec37a24a31ffef",
            "placeholder": "​",
            "style": "IPY_MODEL_a47fdacc6fd442a79eb3bb3e378d5ca8",
            "value": ""
          }
        },
        "98a2b378ceb149b9b4dd1f55e95bd7b6": {
          "model_module": "@jupyter-widgets/controls",
          "model_name": "FloatProgressModel",
          "model_module_version": "1.5.0",
          "state": {
            "_dom_classes": [],
            "_model_module": "@jupyter-widgets/controls",
            "_model_module_version": "1.5.0",
            "_model_name": "FloatProgressModel",
            "_view_count": null,
            "_view_module": "@jupyter-widgets/controls",
            "_view_module_version": "1.5.0",
            "_view_name": "ProgressView",
            "bar_style": "success",
            "description": "",
            "description_tooltip": null,
            "layout": "IPY_MODEL_a04e5d6ac70a4a11bd9a2c6707cb2793",
            "max": 170498071,
            "min": 0,
            "orientation": "horizontal",
            "style": "IPY_MODEL_8cf7454336444447871007f4f477ea99",
            "value": 170498071
          }
        },
        "396d761c884240be8c3cc39711c99bdb": {
          "model_module": "@jupyter-widgets/controls",
          "model_name": "HTMLModel",
          "model_module_version": "1.5.0",
          "state": {
            "_dom_classes": [],
            "_model_module": "@jupyter-widgets/controls",
            "_model_module_version": "1.5.0",
            "_model_name": "HTMLModel",
            "_view_count": null,
            "_view_module": "@jupyter-widgets/controls",
            "_view_module_version": "1.5.0",
            "_view_name": "HTMLView",
            "description": "",
            "description_tooltip": null,
            "layout": "IPY_MODEL_2f04f90189cb46cca511eb1155b0b7f8",
            "placeholder": "​",
            "style": "IPY_MODEL_4b8d2475e8064bc2a1674d5f56654780",
            "value": " 170499072/? [00:02&lt;00:00, 65180250.18it/s]"
          }
        },
        "28c48c7bee96470baf2bd6a558020bff": {
          "model_module": "@jupyter-widgets/base",
          "model_name": "LayoutModel",
          "model_module_version": "1.2.0",
          "state": {
            "_model_module": "@jupyter-widgets/base",
            "_model_module_version": "1.2.0",
            "_model_name": "LayoutModel",
            "_view_count": null,
            "_view_module": "@jupyter-widgets/base",
            "_view_module_version": "1.2.0",
            "_view_name": "LayoutView",
            "align_content": null,
            "align_items": null,
            "align_self": null,
            "border": null,
            "bottom": null,
            "display": null,
            "flex": null,
            "flex_flow": null,
            "grid_area": null,
            "grid_auto_columns": null,
            "grid_auto_flow": null,
            "grid_auto_rows": null,
            "grid_column": null,
            "grid_gap": null,
            "grid_row": null,
            "grid_template_areas": null,
            "grid_template_columns": null,
            "grid_template_rows": null,
            "height": null,
            "justify_content": null,
            "justify_items": null,
            "left": null,
            "margin": null,
            "max_height": null,
            "max_width": null,
            "min_height": null,
            "min_width": null,
            "object_fit": null,
            "object_position": null,
            "order": null,
            "overflow": null,
            "overflow_x": null,
            "overflow_y": null,
            "padding": null,
            "right": null,
            "top": null,
            "visibility": null,
            "width": null
          }
        },
        "58cd444774154b02a0ec37a24a31ffef": {
          "model_module": "@jupyter-widgets/base",
          "model_name": "LayoutModel",
          "model_module_version": "1.2.0",
          "state": {
            "_model_module": "@jupyter-widgets/base",
            "_model_module_version": "1.2.0",
            "_model_name": "LayoutModel",
            "_view_count": null,
            "_view_module": "@jupyter-widgets/base",
            "_view_module_version": "1.2.0",
            "_view_name": "LayoutView",
            "align_content": null,
            "align_items": null,
            "align_self": null,
            "border": null,
            "bottom": null,
            "display": null,
            "flex": null,
            "flex_flow": null,
            "grid_area": null,
            "grid_auto_columns": null,
            "grid_auto_flow": null,
            "grid_auto_rows": null,
            "grid_column": null,
            "grid_gap": null,
            "grid_row": null,
            "grid_template_areas": null,
            "grid_template_columns": null,
            "grid_template_rows": null,
            "height": null,
            "justify_content": null,
            "justify_items": null,
            "left": null,
            "margin": null,
            "max_height": null,
            "max_width": null,
            "min_height": null,
            "min_width": null,
            "object_fit": null,
            "object_position": null,
            "order": null,
            "overflow": null,
            "overflow_x": null,
            "overflow_y": null,
            "padding": null,
            "right": null,
            "top": null,
            "visibility": null,
            "width": null
          }
        },
        "a47fdacc6fd442a79eb3bb3e378d5ca8": {
          "model_module": "@jupyter-widgets/controls",
          "model_name": "DescriptionStyleModel",
          "model_module_version": "1.5.0",
          "state": {
            "_model_module": "@jupyter-widgets/controls",
            "_model_module_version": "1.5.0",
            "_model_name": "DescriptionStyleModel",
            "_view_count": null,
            "_view_module": "@jupyter-widgets/base",
            "_view_module_version": "1.2.0",
            "_view_name": "StyleView",
            "description_width": ""
          }
        },
        "a04e5d6ac70a4a11bd9a2c6707cb2793": {
          "model_module": "@jupyter-widgets/base",
          "model_name": "LayoutModel",
          "model_module_version": "1.2.0",
          "state": {
            "_model_module": "@jupyter-widgets/base",
            "_model_module_version": "1.2.0",
            "_model_name": "LayoutModel",
            "_view_count": null,
            "_view_module": "@jupyter-widgets/base",
            "_view_module_version": "1.2.0",
            "_view_name": "LayoutView",
            "align_content": null,
            "align_items": null,
            "align_self": null,
            "border": null,
            "bottom": null,
            "display": null,
            "flex": null,
            "flex_flow": null,
            "grid_area": null,
            "grid_auto_columns": null,
            "grid_auto_flow": null,
            "grid_auto_rows": null,
            "grid_column": null,
            "grid_gap": null,
            "grid_row": null,
            "grid_template_areas": null,
            "grid_template_columns": null,
            "grid_template_rows": null,
            "height": null,
            "justify_content": null,
            "justify_items": null,
            "left": null,
            "margin": null,
            "max_height": null,
            "max_width": null,
            "min_height": null,
            "min_width": null,
            "object_fit": null,
            "object_position": null,
            "order": null,
            "overflow": null,
            "overflow_x": null,
            "overflow_y": null,
            "padding": null,
            "right": null,
            "top": null,
            "visibility": null,
            "width": null
          }
        },
        "8cf7454336444447871007f4f477ea99": {
          "model_module": "@jupyter-widgets/controls",
          "model_name": "ProgressStyleModel",
          "model_module_version": "1.5.0",
          "state": {
            "_model_module": "@jupyter-widgets/controls",
            "_model_module_version": "1.5.0",
            "_model_name": "ProgressStyleModel",
            "_view_count": null,
            "_view_module": "@jupyter-widgets/base",
            "_view_module_version": "1.2.0",
            "_view_name": "StyleView",
            "bar_color": null,
            "description_width": ""
          }
        },
        "2f04f90189cb46cca511eb1155b0b7f8": {
          "model_module": "@jupyter-widgets/base",
          "model_name": "LayoutModel",
          "model_module_version": "1.2.0",
          "state": {
            "_model_module": "@jupyter-widgets/base",
            "_model_module_version": "1.2.0",
            "_model_name": "LayoutModel",
            "_view_count": null,
            "_view_module": "@jupyter-widgets/base",
            "_view_module_version": "1.2.0",
            "_view_name": "LayoutView",
            "align_content": null,
            "align_items": null,
            "align_self": null,
            "border": null,
            "bottom": null,
            "display": null,
            "flex": null,
            "flex_flow": null,
            "grid_area": null,
            "grid_auto_columns": null,
            "grid_auto_flow": null,
            "grid_auto_rows": null,
            "grid_column": null,
            "grid_gap": null,
            "grid_row": null,
            "grid_template_areas": null,
            "grid_template_columns": null,
            "grid_template_rows": null,
            "height": null,
            "justify_content": null,
            "justify_items": null,
            "left": null,
            "margin": null,
            "max_height": null,
            "max_width": null,
            "min_height": null,
            "min_width": null,
            "object_fit": null,
            "object_position": null,
            "order": null,
            "overflow": null,
            "overflow_x": null,
            "overflow_y": null,
            "padding": null,
            "right": null,
            "top": null,
            "visibility": null,
            "width": null
          }
        },
        "4b8d2475e8064bc2a1674d5f56654780": {
          "model_module": "@jupyter-widgets/controls",
          "model_name": "DescriptionStyleModel",
          "model_module_version": "1.5.0",
          "state": {
            "_model_module": "@jupyter-widgets/controls",
            "_model_module_version": "1.5.0",
            "_model_name": "DescriptionStyleModel",
            "_view_count": null,
            "_view_module": "@jupyter-widgets/base",
            "_view_module_version": "1.2.0",
            "_view_name": "StyleView",
            "description_width": ""
          }
        },
        "22b49fad839c4c7fbea34b649a3c3597": {
          "model_module": "@jupyter-widgets/controls",
          "model_name": "HBoxModel",
          "model_module_version": "1.5.0",
          "state": {
            "_dom_classes": [],
            "_model_module": "@jupyter-widgets/controls",
            "_model_module_version": "1.5.0",
            "_model_name": "HBoxModel",
            "_view_count": null,
            "_view_module": "@jupyter-widgets/controls",
            "_view_module_version": "1.5.0",
            "_view_name": "HBoxView",
            "box_style": "",
            "children": [
              "IPY_MODEL_c0493ef83c7a4481a246ad99ec778a51",
              "IPY_MODEL_fc39414e515e4762bf63afca661b879f",
              "IPY_MODEL_a79aa44a708a4423be21692b97dcd748"
            ],
            "layout": "IPY_MODEL_d55a2b3f4f3f4a7a81dfb080881c1149"
          }
        },
        "c0493ef83c7a4481a246ad99ec778a51": {
          "model_module": "@jupyter-widgets/controls",
          "model_name": "HTMLModel",
          "model_module_version": "1.5.0",
          "state": {
            "_dom_classes": [],
            "_model_module": "@jupyter-widgets/controls",
            "_model_module_version": "1.5.0",
            "_model_name": "HTMLModel",
            "_view_count": null,
            "_view_module": "@jupyter-widgets/controls",
            "_view_module_version": "1.5.0",
            "_view_name": "HTMLView",
            "description": "",
            "description_tooltip": null,
            "layout": "IPY_MODEL_df3106d24bae4a2eb0a5ee2f6faeef63",
            "placeholder": "​",
            "style": "IPY_MODEL_fd09d98b62354b5d967ea9e64bfca040",
            "value": "Testing DataLoader 0: 100%"
          }
        },
        "fc39414e515e4762bf63afca661b879f": {
          "model_module": "@jupyter-widgets/controls",
          "model_name": "FloatProgressModel",
          "model_module_version": "1.5.0",
          "state": {
            "_dom_classes": [],
            "_model_module": "@jupyter-widgets/controls",
            "_model_module_version": "1.5.0",
            "_model_name": "FloatProgressModel",
            "_view_count": null,
            "_view_module": "@jupyter-widgets/controls",
            "_view_module_version": "1.5.0",
            "_view_name": "ProgressView",
            "bar_style": "success",
            "description": "",
            "description_tooltip": null,
            "layout": "IPY_MODEL_e3973de5efce48d1910c52f2c373fbd9",
            "max": 1,
            "min": 0,
            "orientation": "horizontal",
            "style": "IPY_MODEL_0cda8ca551014da3bc6f3b6794bc93cd",
            "value": 1
          }
        },
        "a79aa44a708a4423be21692b97dcd748": {
          "model_module": "@jupyter-widgets/controls",
          "model_name": "HTMLModel",
          "model_module_version": "1.5.0",
          "state": {
            "_dom_classes": [],
            "_model_module": "@jupyter-widgets/controls",
            "_model_module_version": "1.5.0",
            "_model_name": "HTMLModel",
            "_view_count": null,
            "_view_module": "@jupyter-widgets/controls",
            "_view_module_version": "1.5.0",
            "_view_name": "HTMLView",
            "description": "",
            "description_tooltip": null,
            "layout": "IPY_MODEL_ef01ea5269dd4c53bda188859c2f9bf3",
            "placeholder": "​",
            "style": "IPY_MODEL_ed575e9476c64a40a84c06611ba289dc",
            "value": " 40/40 [01:31&lt;00:00,  2.28s/it]"
          }
        },
        "d55a2b3f4f3f4a7a81dfb080881c1149": {
          "model_module": "@jupyter-widgets/base",
          "model_name": "LayoutModel",
          "model_module_version": "1.2.0",
          "state": {
            "_model_module": "@jupyter-widgets/base",
            "_model_module_version": "1.2.0",
            "_model_name": "LayoutModel",
            "_view_count": null,
            "_view_module": "@jupyter-widgets/base",
            "_view_module_version": "1.2.0",
            "_view_name": "LayoutView",
            "align_content": null,
            "align_items": null,
            "align_self": null,
            "border": null,
            "bottom": null,
            "display": "inline-flex",
            "flex": null,
            "flex_flow": "row wrap",
            "grid_area": null,
            "grid_auto_columns": null,
            "grid_auto_flow": null,
            "grid_auto_rows": null,
            "grid_column": null,
            "grid_gap": null,
            "grid_row": null,
            "grid_template_areas": null,
            "grid_template_columns": null,
            "grid_template_rows": null,
            "height": null,
            "justify_content": null,
            "justify_items": null,
            "left": null,
            "margin": null,
            "max_height": null,
            "max_width": null,
            "min_height": null,
            "min_width": null,
            "object_fit": null,
            "object_position": null,
            "order": null,
            "overflow": null,
            "overflow_x": null,
            "overflow_y": null,
            "padding": null,
            "right": null,
            "top": null,
            "visibility": null,
            "width": "100%"
          }
        },
        "df3106d24bae4a2eb0a5ee2f6faeef63": {
          "model_module": "@jupyter-widgets/base",
          "model_name": "LayoutModel",
          "model_module_version": "1.2.0",
          "state": {
            "_model_module": "@jupyter-widgets/base",
            "_model_module_version": "1.2.0",
            "_model_name": "LayoutModel",
            "_view_count": null,
            "_view_module": "@jupyter-widgets/base",
            "_view_module_version": "1.2.0",
            "_view_name": "LayoutView",
            "align_content": null,
            "align_items": null,
            "align_self": null,
            "border": null,
            "bottom": null,
            "display": null,
            "flex": null,
            "flex_flow": null,
            "grid_area": null,
            "grid_auto_columns": null,
            "grid_auto_flow": null,
            "grid_auto_rows": null,
            "grid_column": null,
            "grid_gap": null,
            "grid_row": null,
            "grid_template_areas": null,
            "grid_template_columns": null,
            "grid_template_rows": null,
            "height": null,
            "justify_content": null,
            "justify_items": null,
            "left": null,
            "margin": null,
            "max_height": null,
            "max_width": null,
            "min_height": null,
            "min_width": null,
            "object_fit": null,
            "object_position": null,
            "order": null,
            "overflow": null,
            "overflow_x": null,
            "overflow_y": null,
            "padding": null,
            "right": null,
            "top": null,
            "visibility": null,
            "width": null
          }
        },
        "fd09d98b62354b5d967ea9e64bfca040": {
          "model_module": "@jupyter-widgets/controls",
          "model_name": "DescriptionStyleModel",
          "model_module_version": "1.5.0",
          "state": {
            "_model_module": "@jupyter-widgets/controls",
            "_model_module_version": "1.5.0",
            "_model_name": "DescriptionStyleModel",
            "_view_count": null,
            "_view_module": "@jupyter-widgets/base",
            "_view_module_version": "1.2.0",
            "_view_name": "StyleView",
            "description_width": ""
          }
        },
        "e3973de5efce48d1910c52f2c373fbd9": {
          "model_module": "@jupyter-widgets/base",
          "model_name": "LayoutModel",
          "model_module_version": "1.2.0",
          "state": {
            "_model_module": "@jupyter-widgets/base",
            "_model_module_version": "1.2.0",
            "_model_name": "LayoutModel",
            "_view_count": null,
            "_view_module": "@jupyter-widgets/base",
            "_view_module_version": "1.2.0",
            "_view_name": "LayoutView",
            "align_content": null,
            "align_items": null,
            "align_self": null,
            "border": null,
            "bottom": null,
            "display": null,
            "flex": "2",
            "flex_flow": null,
            "grid_area": null,
            "grid_auto_columns": null,
            "grid_auto_flow": null,
            "grid_auto_rows": null,
            "grid_column": null,
            "grid_gap": null,
            "grid_row": null,
            "grid_template_areas": null,
            "grid_template_columns": null,
            "grid_template_rows": null,
            "height": null,
            "justify_content": null,
            "justify_items": null,
            "left": null,
            "margin": null,
            "max_height": null,
            "max_width": null,
            "min_height": null,
            "min_width": null,
            "object_fit": null,
            "object_position": null,
            "order": null,
            "overflow": null,
            "overflow_x": null,
            "overflow_y": null,
            "padding": null,
            "right": null,
            "top": null,
            "visibility": null,
            "width": null
          }
        },
        "0cda8ca551014da3bc6f3b6794bc93cd": {
          "model_module": "@jupyter-widgets/controls",
          "model_name": "ProgressStyleModel",
          "model_module_version": "1.5.0",
          "state": {
            "_model_module": "@jupyter-widgets/controls",
            "_model_module_version": "1.5.0",
            "_model_name": "ProgressStyleModel",
            "_view_count": null,
            "_view_module": "@jupyter-widgets/base",
            "_view_module_version": "1.2.0",
            "_view_name": "StyleView",
            "bar_color": null,
            "description_width": ""
          }
        },
        "ef01ea5269dd4c53bda188859c2f9bf3": {
          "model_module": "@jupyter-widgets/base",
          "model_name": "LayoutModel",
          "model_module_version": "1.2.0",
          "state": {
            "_model_module": "@jupyter-widgets/base",
            "_model_module_version": "1.2.0",
            "_model_name": "LayoutModel",
            "_view_count": null,
            "_view_module": "@jupyter-widgets/base",
            "_view_module_version": "1.2.0",
            "_view_name": "LayoutView",
            "align_content": null,
            "align_items": null,
            "align_self": null,
            "border": null,
            "bottom": null,
            "display": null,
            "flex": null,
            "flex_flow": null,
            "grid_area": null,
            "grid_auto_columns": null,
            "grid_auto_flow": null,
            "grid_auto_rows": null,
            "grid_column": null,
            "grid_gap": null,
            "grid_row": null,
            "grid_template_areas": null,
            "grid_template_columns": null,
            "grid_template_rows": null,
            "height": null,
            "justify_content": null,
            "justify_items": null,
            "left": null,
            "margin": null,
            "max_height": null,
            "max_width": null,
            "min_height": null,
            "min_width": null,
            "object_fit": null,
            "object_position": null,
            "order": null,
            "overflow": null,
            "overflow_x": null,
            "overflow_y": null,
            "padding": null,
            "right": null,
            "top": null,
            "visibility": null,
            "width": null
          }
        },
        "ed575e9476c64a40a84c06611ba289dc": {
          "model_module": "@jupyter-widgets/controls",
          "model_name": "DescriptionStyleModel",
          "model_module_version": "1.5.0",
          "state": {
            "_model_module": "@jupyter-widgets/controls",
            "_model_module_version": "1.5.0",
            "_model_name": "DescriptionStyleModel",
            "_view_count": null,
            "_view_module": "@jupyter-widgets/base",
            "_view_module_version": "1.2.0",
            "_view_name": "StyleView",
            "description_width": ""
          }
        },
        "5e331f66b1224b5ba8bacc3cff957cec": {
          "model_module": "@jupyter-widgets/controls",
          "model_name": "HBoxModel",
          "model_module_version": "1.5.0",
          "state": {
            "_dom_classes": [],
            "_model_module": "@jupyter-widgets/controls",
            "_model_module_version": "1.5.0",
            "_model_name": "HBoxModel",
            "_view_count": null,
            "_view_module": "@jupyter-widgets/controls",
            "_view_module_version": "1.5.0",
            "_view_name": "HBoxView",
            "box_style": "",
            "children": [
              "IPY_MODEL_d31d0a0a87dd44f3b044613b0bfb7340",
              "IPY_MODEL_d02c97bbd6334b4f80bf3462f4456773",
              "IPY_MODEL_4b0369bbbb6b4889b39bfeb167320edc"
            ],
            "layout": "IPY_MODEL_06cc994161bf41bdbab8a32cc99a62fe"
          }
        },
        "d31d0a0a87dd44f3b044613b0bfb7340": {
          "model_module": "@jupyter-widgets/controls",
          "model_name": "HTMLModel",
          "model_module_version": "1.5.0",
          "state": {
            "_dom_classes": [],
            "_model_module": "@jupyter-widgets/controls",
            "_model_module_version": "1.5.0",
            "_model_name": "HTMLModel",
            "_view_count": null,
            "_view_module": "@jupyter-widgets/controls",
            "_view_module_version": "1.5.0",
            "_view_name": "HTMLView",
            "description": "",
            "description_tooltip": null,
            "layout": "IPY_MODEL_bf3406f124164fe6822a1c79199fc288",
            "placeholder": "​",
            "style": "IPY_MODEL_aee17dce9fc14624bc57a325fcd28637",
            "value": "Testing DataLoader 0: 100%"
          }
        },
        "d02c97bbd6334b4f80bf3462f4456773": {
          "model_module": "@jupyter-widgets/controls",
          "model_name": "FloatProgressModel",
          "model_module_version": "1.5.0",
          "state": {
            "_dom_classes": [],
            "_model_module": "@jupyter-widgets/controls",
            "_model_module_version": "1.5.0",
            "_model_name": "FloatProgressModel",
            "_view_count": null,
            "_view_module": "@jupyter-widgets/controls",
            "_view_module_version": "1.5.0",
            "_view_name": "ProgressView",
            "bar_style": "success",
            "description": "",
            "description_tooltip": null,
            "layout": "IPY_MODEL_fd0b3646cf304683abb90a9be1863703",
            "max": 1,
            "min": 0,
            "orientation": "horizontal",
            "style": "IPY_MODEL_c9c96db5c89e4da591e3818d290a3771",
            "value": 1
          }
        },
        "4b0369bbbb6b4889b39bfeb167320edc": {
          "model_module": "@jupyter-widgets/controls",
          "model_name": "HTMLModel",
          "model_module_version": "1.5.0",
          "state": {
            "_dom_classes": [],
            "_model_module": "@jupyter-widgets/controls",
            "_model_module_version": "1.5.0",
            "_model_name": "HTMLModel",
            "_view_count": null,
            "_view_module": "@jupyter-widgets/controls",
            "_view_module_version": "1.5.0",
            "_view_name": "HTMLView",
            "description": "",
            "description_tooltip": null,
            "layout": "IPY_MODEL_c692e61353da4aefbc86814b0e8473de",
            "placeholder": "​",
            "style": "IPY_MODEL_7d661e0c524f489a81457e51e6fccbf8",
            "value": " 79/79 [03:02&lt;00:00,  2.31s/it]"
          }
        },
        "06cc994161bf41bdbab8a32cc99a62fe": {
          "model_module": "@jupyter-widgets/base",
          "model_name": "LayoutModel",
          "model_module_version": "1.2.0",
          "state": {
            "_model_module": "@jupyter-widgets/base",
            "_model_module_version": "1.2.0",
            "_model_name": "LayoutModel",
            "_view_count": null,
            "_view_module": "@jupyter-widgets/base",
            "_view_module_version": "1.2.0",
            "_view_name": "LayoutView",
            "align_content": null,
            "align_items": null,
            "align_self": null,
            "border": null,
            "bottom": null,
            "display": "inline-flex",
            "flex": null,
            "flex_flow": "row wrap",
            "grid_area": null,
            "grid_auto_columns": null,
            "grid_auto_flow": null,
            "grid_auto_rows": null,
            "grid_column": null,
            "grid_gap": null,
            "grid_row": null,
            "grid_template_areas": null,
            "grid_template_columns": null,
            "grid_template_rows": null,
            "height": null,
            "justify_content": null,
            "justify_items": null,
            "left": null,
            "margin": null,
            "max_height": null,
            "max_width": null,
            "min_height": null,
            "min_width": null,
            "object_fit": null,
            "object_position": null,
            "order": null,
            "overflow": null,
            "overflow_x": null,
            "overflow_y": null,
            "padding": null,
            "right": null,
            "top": null,
            "visibility": null,
            "width": "100%"
          }
        },
        "bf3406f124164fe6822a1c79199fc288": {
          "model_module": "@jupyter-widgets/base",
          "model_name": "LayoutModel",
          "model_module_version": "1.2.0",
          "state": {
            "_model_module": "@jupyter-widgets/base",
            "_model_module_version": "1.2.0",
            "_model_name": "LayoutModel",
            "_view_count": null,
            "_view_module": "@jupyter-widgets/base",
            "_view_module_version": "1.2.0",
            "_view_name": "LayoutView",
            "align_content": null,
            "align_items": null,
            "align_self": null,
            "border": null,
            "bottom": null,
            "display": null,
            "flex": null,
            "flex_flow": null,
            "grid_area": null,
            "grid_auto_columns": null,
            "grid_auto_flow": null,
            "grid_auto_rows": null,
            "grid_column": null,
            "grid_gap": null,
            "grid_row": null,
            "grid_template_areas": null,
            "grid_template_columns": null,
            "grid_template_rows": null,
            "height": null,
            "justify_content": null,
            "justify_items": null,
            "left": null,
            "margin": null,
            "max_height": null,
            "max_width": null,
            "min_height": null,
            "min_width": null,
            "object_fit": null,
            "object_position": null,
            "order": null,
            "overflow": null,
            "overflow_x": null,
            "overflow_y": null,
            "padding": null,
            "right": null,
            "top": null,
            "visibility": null,
            "width": null
          }
        },
        "aee17dce9fc14624bc57a325fcd28637": {
          "model_module": "@jupyter-widgets/controls",
          "model_name": "DescriptionStyleModel",
          "model_module_version": "1.5.0",
          "state": {
            "_model_module": "@jupyter-widgets/controls",
            "_model_module_version": "1.5.0",
            "_model_name": "DescriptionStyleModel",
            "_view_count": null,
            "_view_module": "@jupyter-widgets/base",
            "_view_module_version": "1.2.0",
            "_view_name": "StyleView",
            "description_width": ""
          }
        },
        "fd0b3646cf304683abb90a9be1863703": {
          "model_module": "@jupyter-widgets/base",
          "model_name": "LayoutModel",
          "model_module_version": "1.2.0",
          "state": {
            "_model_module": "@jupyter-widgets/base",
            "_model_module_version": "1.2.0",
            "_model_name": "LayoutModel",
            "_view_count": null,
            "_view_module": "@jupyter-widgets/base",
            "_view_module_version": "1.2.0",
            "_view_name": "LayoutView",
            "align_content": null,
            "align_items": null,
            "align_self": null,
            "border": null,
            "bottom": null,
            "display": null,
            "flex": "2",
            "flex_flow": null,
            "grid_area": null,
            "grid_auto_columns": null,
            "grid_auto_flow": null,
            "grid_auto_rows": null,
            "grid_column": null,
            "grid_gap": null,
            "grid_row": null,
            "grid_template_areas": null,
            "grid_template_columns": null,
            "grid_template_rows": null,
            "height": null,
            "justify_content": null,
            "justify_items": null,
            "left": null,
            "margin": null,
            "max_height": null,
            "max_width": null,
            "min_height": null,
            "min_width": null,
            "object_fit": null,
            "object_position": null,
            "order": null,
            "overflow": null,
            "overflow_x": null,
            "overflow_y": null,
            "padding": null,
            "right": null,
            "top": null,
            "visibility": null,
            "width": null
          }
        },
        "c9c96db5c89e4da591e3818d290a3771": {
          "model_module": "@jupyter-widgets/controls",
          "model_name": "ProgressStyleModel",
          "model_module_version": "1.5.0",
          "state": {
            "_model_module": "@jupyter-widgets/controls",
            "_model_module_version": "1.5.0",
            "_model_name": "ProgressStyleModel",
            "_view_count": null,
            "_view_module": "@jupyter-widgets/base",
            "_view_module_version": "1.2.0",
            "_view_name": "StyleView",
            "bar_color": null,
            "description_width": ""
          }
        },
        "c692e61353da4aefbc86814b0e8473de": {
          "model_module": "@jupyter-widgets/base",
          "model_name": "LayoutModel",
          "model_module_version": "1.2.0",
          "state": {
            "_model_module": "@jupyter-widgets/base",
            "_model_module_version": "1.2.0",
            "_model_name": "LayoutModel",
            "_view_count": null,
            "_view_module": "@jupyter-widgets/base",
            "_view_module_version": "1.2.0",
            "_view_name": "LayoutView",
            "align_content": null,
            "align_items": null,
            "align_self": null,
            "border": null,
            "bottom": null,
            "display": null,
            "flex": null,
            "flex_flow": null,
            "grid_area": null,
            "grid_auto_columns": null,
            "grid_auto_flow": null,
            "grid_auto_rows": null,
            "grid_column": null,
            "grid_gap": null,
            "grid_row": null,
            "grid_template_areas": null,
            "grid_template_columns": null,
            "grid_template_rows": null,
            "height": null,
            "justify_content": null,
            "justify_items": null,
            "left": null,
            "margin": null,
            "max_height": null,
            "max_width": null,
            "min_height": null,
            "min_width": null,
            "object_fit": null,
            "object_position": null,
            "order": null,
            "overflow": null,
            "overflow_x": null,
            "overflow_y": null,
            "padding": null,
            "right": null,
            "top": null,
            "visibility": null,
            "width": null
          }
        },
        "7d661e0c524f489a81457e51e6fccbf8": {
          "model_module": "@jupyter-widgets/controls",
          "model_name": "DescriptionStyleModel",
          "model_module_version": "1.5.0",
          "state": {
            "_model_module": "@jupyter-widgets/controls",
            "_model_module_version": "1.5.0",
            "_model_name": "DescriptionStyleModel",
            "_view_count": null,
            "_view_module": "@jupyter-widgets/base",
            "_view_module_version": "1.2.0",
            "_view_name": "StyleView",
            "description_width": ""
          }
        },
        "9efea0c3ed4c451c86055bc274004f6c": {
          "model_module": "@jupyter-widgets/controls",
          "model_name": "HBoxModel",
          "model_module_version": "1.5.0",
          "state": {
            "_dom_classes": [],
            "_model_module": "@jupyter-widgets/controls",
            "_model_module_version": "1.5.0",
            "_model_name": "HBoxModel",
            "_view_count": null,
            "_view_module": "@jupyter-widgets/controls",
            "_view_module_version": "1.5.0",
            "_view_name": "HBoxView",
            "box_style": "",
            "children": [
              "IPY_MODEL_25ce8eca3d6c430a99d142984bddd4ec",
              "IPY_MODEL_e1bf3bb9e0f143f99f4116454231c3e8",
              "IPY_MODEL_64cd2e62bcf84b0f841b2b30331f8c1b"
            ],
            "layout": "IPY_MODEL_e5fd77a8a24149d7bfa8b15dab0d9d38"
          }
        },
        "25ce8eca3d6c430a99d142984bddd4ec": {
          "model_module": "@jupyter-widgets/controls",
          "model_name": "HTMLModel",
          "model_module_version": "1.5.0",
          "state": {
            "_dom_classes": [],
            "_model_module": "@jupyter-widgets/controls",
            "_model_module_version": "1.5.0",
            "_model_name": "HTMLModel",
            "_view_count": null,
            "_view_module": "@jupyter-widgets/controls",
            "_view_module_version": "1.5.0",
            "_view_name": "HTMLView",
            "description": "",
            "description_tooltip": null,
            "layout": "IPY_MODEL_b90126d5d8114421a41d4f2f31163798",
            "placeholder": "​",
            "style": "IPY_MODEL_2d3a152a3f344bcb8721ecae553f0974",
            "value": "Testing DataLoader 0: 100%"
          }
        },
        "e1bf3bb9e0f143f99f4116454231c3e8": {
          "model_module": "@jupyter-widgets/controls",
          "model_name": "FloatProgressModel",
          "model_module_version": "1.5.0",
          "state": {
            "_dom_classes": [],
            "_model_module": "@jupyter-widgets/controls",
            "_model_module_version": "1.5.0",
            "_model_name": "FloatProgressModel",
            "_view_count": null,
            "_view_module": "@jupyter-widgets/controls",
            "_view_module_version": "1.5.0",
            "_view_name": "ProgressView",
            "bar_style": "success",
            "description": "",
            "description_tooltip": null,
            "layout": "IPY_MODEL_75801fa78c8340bd953c440041a07817",
            "max": 1,
            "min": 0,
            "orientation": "horizontal",
            "style": "IPY_MODEL_1445346af8fb46c2a236f3f681c11418",
            "value": 1
          }
        },
        "64cd2e62bcf84b0f841b2b30331f8c1b": {
          "model_module": "@jupyter-widgets/controls",
          "model_name": "HTMLModel",
          "model_module_version": "1.5.0",
          "state": {
            "_dom_classes": [],
            "_model_module": "@jupyter-widgets/controls",
            "_model_module_version": "1.5.0",
            "_model_name": "HTMLModel",
            "_view_count": null,
            "_view_module": "@jupyter-widgets/controls",
            "_view_module_version": "1.5.0",
            "_view_name": "HTMLView",
            "description": "",
            "description_tooltip": null,
            "layout": "IPY_MODEL_c9fc06d086074e30b463cbe473ff022a",
            "placeholder": "​",
            "style": "IPY_MODEL_11be58e5c92a466f8267f2b9945c7a59",
            "value": " 40/40 [00:13&lt;00:00,  2.96it/s]"
          }
        },
        "e5fd77a8a24149d7bfa8b15dab0d9d38": {
          "model_module": "@jupyter-widgets/base",
          "model_name": "LayoutModel",
          "model_module_version": "1.2.0",
          "state": {
            "_model_module": "@jupyter-widgets/base",
            "_model_module_version": "1.2.0",
            "_model_name": "LayoutModel",
            "_view_count": null,
            "_view_module": "@jupyter-widgets/base",
            "_view_module_version": "1.2.0",
            "_view_name": "LayoutView",
            "align_content": null,
            "align_items": null,
            "align_self": null,
            "border": null,
            "bottom": null,
            "display": "inline-flex",
            "flex": null,
            "flex_flow": "row wrap",
            "grid_area": null,
            "grid_auto_columns": null,
            "grid_auto_flow": null,
            "grid_auto_rows": null,
            "grid_column": null,
            "grid_gap": null,
            "grid_row": null,
            "grid_template_areas": null,
            "grid_template_columns": null,
            "grid_template_rows": null,
            "height": null,
            "justify_content": null,
            "justify_items": null,
            "left": null,
            "margin": null,
            "max_height": null,
            "max_width": null,
            "min_height": null,
            "min_width": null,
            "object_fit": null,
            "object_position": null,
            "order": null,
            "overflow": null,
            "overflow_x": null,
            "overflow_y": null,
            "padding": null,
            "right": null,
            "top": null,
            "visibility": null,
            "width": "100%"
          }
        },
        "b90126d5d8114421a41d4f2f31163798": {
          "model_module": "@jupyter-widgets/base",
          "model_name": "LayoutModel",
          "model_module_version": "1.2.0",
          "state": {
            "_model_module": "@jupyter-widgets/base",
            "_model_module_version": "1.2.0",
            "_model_name": "LayoutModel",
            "_view_count": null,
            "_view_module": "@jupyter-widgets/base",
            "_view_module_version": "1.2.0",
            "_view_name": "LayoutView",
            "align_content": null,
            "align_items": null,
            "align_self": null,
            "border": null,
            "bottom": null,
            "display": null,
            "flex": null,
            "flex_flow": null,
            "grid_area": null,
            "grid_auto_columns": null,
            "grid_auto_flow": null,
            "grid_auto_rows": null,
            "grid_column": null,
            "grid_gap": null,
            "grid_row": null,
            "grid_template_areas": null,
            "grid_template_columns": null,
            "grid_template_rows": null,
            "height": null,
            "justify_content": null,
            "justify_items": null,
            "left": null,
            "margin": null,
            "max_height": null,
            "max_width": null,
            "min_height": null,
            "min_width": null,
            "object_fit": null,
            "object_position": null,
            "order": null,
            "overflow": null,
            "overflow_x": null,
            "overflow_y": null,
            "padding": null,
            "right": null,
            "top": null,
            "visibility": null,
            "width": null
          }
        },
        "2d3a152a3f344bcb8721ecae553f0974": {
          "model_module": "@jupyter-widgets/controls",
          "model_name": "DescriptionStyleModel",
          "model_module_version": "1.5.0",
          "state": {
            "_model_module": "@jupyter-widgets/controls",
            "_model_module_version": "1.5.0",
            "_model_name": "DescriptionStyleModel",
            "_view_count": null,
            "_view_module": "@jupyter-widgets/base",
            "_view_module_version": "1.2.0",
            "_view_name": "StyleView",
            "description_width": ""
          }
        },
        "75801fa78c8340bd953c440041a07817": {
          "model_module": "@jupyter-widgets/base",
          "model_name": "LayoutModel",
          "model_module_version": "1.2.0",
          "state": {
            "_model_module": "@jupyter-widgets/base",
            "_model_module_version": "1.2.0",
            "_model_name": "LayoutModel",
            "_view_count": null,
            "_view_module": "@jupyter-widgets/base",
            "_view_module_version": "1.2.0",
            "_view_name": "LayoutView",
            "align_content": null,
            "align_items": null,
            "align_self": null,
            "border": null,
            "bottom": null,
            "display": null,
            "flex": "2",
            "flex_flow": null,
            "grid_area": null,
            "grid_auto_columns": null,
            "grid_auto_flow": null,
            "grid_auto_rows": null,
            "grid_column": null,
            "grid_gap": null,
            "grid_row": null,
            "grid_template_areas": null,
            "grid_template_columns": null,
            "grid_template_rows": null,
            "height": null,
            "justify_content": null,
            "justify_items": null,
            "left": null,
            "margin": null,
            "max_height": null,
            "max_width": null,
            "min_height": null,
            "min_width": null,
            "object_fit": null,
            "object_position": null,
            "order": null,
            "overflow": null,
            "overflow_x": null,
            "overflow_y": null,
            "padding": null,
            "right": null,
            "top": null,
            "visibility": null,
            "width": null
          }
        },
        "1445346af8fb46c2a236f3f681c11418": {
          "model_module": "@jupyter-widgets/controls",
          "model_name": "ProgressStyleModel",
          "model_module_version": "1.5.0",
          "state": {
            "_model_module": "@jupyter-widgets/controls",
            "_model_module_version": "1.5.0",
            "_model_name": "ProgressStyleModel",
            "_view_count": null,
            "_view_module": "@jupyter-widgets/base",
            "_view_module_version": "1.2.0",
            "_view_name": "StyleView",
            "bar_color": null,
            "description_width": ""
          }
        },
        "c9fc06d086074e30b463cbe473ff022a": {
          "model_module": "@jupyter-widgets/base",
          "model_name": "LayoutModel",
          "model_module_version": "1.2.0",
          "state": {
            "_model_module": "@jupyter-widgets/base",
            "_model_module_version": "1.2.0",
            "_model_name": "LayoutModel",
            "_view_count": null,
            "_view_module": "@jupyter-widgets/base",
            "_view_module_version": "1.2.0",
            "_view_name": "LayoutView",
            "align_content": null,
            "align_items": null,
            "align_self": null,
            "border": null,
            "bottom": null,
            "display": null,
            "flex": null,
            "flex_flow": null,
            "grid_area": null,
            "grid_auto_columns": null,
            "grid_auto_flow": null,
            "grid_auto_rows": null,
            "grid_column": null,
            "grid_gap": null,
            "grid_row": null,
            "grid_template_areas": null,
            "grid_template_columns": null,
            "grid_template_rows": null,
            "height": null,
            "justify_content": null,
            "justify_items": null,
            "left": null,
            "margin": null,
            "max_height": null,
            "max_width": null,
            "min_height": null,
            "min_width": null,
            "object_fit": null,
            "object_position": null,
            "order": null,
            "overflow": null,
            "overflow_x": null,
            "overflow_y": null,
            "padding": null,
            "right": null,
            "top": null,
            "visibility": null,
            "width": null
          }
        },
        "11be58e5c92a466f8267f2b9945c7a59": {
          "model_module": "@jupyter-widgets/controls",
          "model_name": "DescriptionStyleModel",
          "model_module_version": "1.5.0",
          "state": {
            "_model_module": "@jupyter-widgets/controls",
            "_model_module_version": "1.5.0",
            "_model_name": "DescriptionStyleModel",
            "_view_count": null,
            "_view_module": "@jupyter-widgets/base",
            "_view_module_version": "1.2.0",
            "_view_name": "StyleView",
            "description_width": ""
          }
        },
        "ddec86ff8a2a4d2fb38650f24b770075": {
          "model_module": "@jupyter-widgets/controls",
          "model_name": "HBoxModel",
          "model_module_version": "1.5.0",
          "state": {
            "_dom_classes": [],
            "_model_module": "@jupyter-widgets/controls",
            "_model_module_version": "1.5.0",
            "_model_name": "HBoxModel",
            "_view_count": null,
            "_view_module": "@jupyter-widgets/controls",
            "_view_module_version": "1.5.0",
            "_view_name": "HBoxView",
            "box_style": "",
            "children": [
              "IPY_MODEL_d644fc8c69b1475a8cb9da0efb14207b",
              "IPY_MODEL_684bd4fc17fc4ef59053442e330e498c",
              "IPY_MODEL_37874ad4a29d4bffa6914ad797709ac8"
            ],
            "layout": "IPY_MODEL_e8eb9094deb24520aafa1ef199724083"
          }
        },
        "d644fc8c69b1475a8cb9da0efb14207b": {
          "model_module": "@jupyter-widgets/controls",
          "model_name": "HTMLModel",
          "model_module_version": "1.5.0",
          "state": {
            "_dom_classes": [],
            "_model_module": "@jupyter-widgets/controls",
            "_model_module_version": "1.5.0",
            "_model_name": "HTMLModel",
            "_view_count": null,
            "_view_module": "@jupyter-widgets/controls",
            "_view_module_version": "1.5.0",
            "_view_name": "HTMLView",
            "description": "",
            "description_tooltip": null,
            "layout": "IPY_MODEL_322c84cac6de428f96041490012afef5",
            "placeholder": "​",
            "style": "IPY_MODEL_60d863e363ae47aea2cf315aa9e5d5d9",
            "value": "Testing DataLoader 0: 100%"
          }
        },
        "684bd4fc17fc4ef59053442e330e498c": {
          "model_module": "@jupyter-widgets/controls",
          "model_name": "FloatProgressModel",
          "model_module_version": "1.5.0",
          "state": {
            "_dom_classes": [],
            "_model_module": "@jupyter-widgets/controls",
            "_model_module_version": "1.5.0",
            "_model_name": "FloatProgressModel",
            "_view_count": null,
            "_view_module": "@jupyter-widgets/controls",
            "_view_module_version": "1.5.0",
            "_view_name": "ProgressView",
            "bar_style": "success",
            "description": "",
            "description_tooltip": null,
            "layout": "IPY_MODEL_fd2b36f0c3a9478d94d81768bdff5c2c",
            "max": 1,
            "min": 0,
            "orientation": "horizontal",
            "style": "IPY_MODEL_c900b035c1414f699a610f1fcc7f3950",
            "value": 1
          }
        },
        "37874ad4a29d4bffa6914ad797709ac8": {
          "model_module": "@jupyter-widgets/controls",
          "model_name": "HTMLModel",
          "model_module_version": "1.5.0",
          "state": {
            "_dom_classes": [],
            "_model_module": "@jupyter-widgets/controls",
            "_model_module_version": "1.5.0",
            "_model_name": "HTMLModel",
            "_view_count": null,
            "_view_module": "@jupyter-widgets/controls",
            "_view_module_version": "1.5.0",
            "_view_name": "HTMLView",
            "description": "",
            "description_tooltip": null,
            "layout": "IPY_MODEL_0af84025e357405088e79f3e1b6c8b89",
            "placeholder": "​",
            "style": "IPY_MODEL_e7d8f1eaf68049e39e8f1865268bd6d7",
            "value": " 79/79 [00:27&lt;00:00,  2.88it/s]"
          }
        },
        "e8eb9094deb24520aafa1ef199724083": {
          "model_module": "@jupyter-widgets/base",
          "model_name": "LayoutModel",
          "model_module_version": "1.2.0",
          "state": {
            "_model_module": "@jupyter-widgets/base",
            "_model_module_version": "1.2.0",
            "_model_name": "LayoutModel",
            "_view_count": null,
            "_view_module": "@jupyter-widgets/base",
            "_view_module_version": "1.2.0",
            "_view_name": "LayoutView",
            "align_content": null,
            "align_items": null,
            "align_self": null,
            "border": null,
            "bottom": null,
            "display": "inline-flex",
            "flex": null,
            "flex_flow": "row wrap",
            "grid_area": null,
            "grid_auto_columns": null,
            "grid_auto_flow": null,
            "grid_auto_rows": null,
            "grid_column": null,
            "grid_gap": null,
            "grid_row": null,
            "grid_template_areas": null,
            "grid_template_columns": null,
            "grid_template_rows": null,
            "height": null,
            "justify_content": null,
            "justify_items": null,
            "left": null,
            "margin": null,
            "max_height": null,
            "max_width": null,
            "min_height": null,
            "min_width": null,
            "object_fit": null,
            "object_position": null,
            "order": null,
            "overflow": null,
            "overflow_x": null,
            "overflow_y": null,
            "padding": null,
            "right": null,
            "top": null,
            "visibility": null,
            "width": "100%"
          }
        },
        "322c84cac6de428f96041490012afef5": {
          "model_module": "@jupyter-widgets/base",
          "model_name": "LayoutModel",
          "model_module_version": "1.2.0",
          "state": {
            "_model_module": "@jupyter-widgets/base",
            "_model_module_version": "1.2.0",
            "_model_name": "LayoutModel",
            "_view_count": null,
            "_view_module": "@jupyter-widgets/base",
            "_view_module_version": "1.2.0",
            "_view_name": "LayoutView",
            "align_content": null,
            "align_items": null,
            "align_self": null,
            "border": null,
            "bottom": null,
            "display": null,
            "flex": null,
            "flex_flow": null,
            "grid_area": null,
            "grid_auto_columns": null,
            "grid_auto_flow": null,
            "grid_auto_rows": null,
            "grid_column": null,
            "grid_gap": null,
            "grid_row": null,
            "grid_template_areas": null,
            "grid_template_columns": null,
            "grid_template_rows": null,
            "height": null,
            "justify_content": null,
            "justify_items": null,
            "left": null,
            "margin": null,
            "max_height": null,
            "max_width": null,
            "min_height": null,
            "min_width": null,
            "object_fit": null,
            "object_position": null,
            "order": null,
            "overflow": null,
            "overflow_x": null,
            "overflow_y": null,
            "padding": null,
            "right": null,
            "top": null,
            "visibility": null,
            "width": null
          }
        },
        "60d863e363ae47aea2cf315aa9e5d5d9": {
          "model_module": "@jupyter-widgets/controls",
          "model_name": "DescriptionStyleModel",
          "model_module_version": "1.5.0",
          "state": {
            "_model_module": "@jupyter-widgets/controls",
            "_model_module_version": "1.5.0",
            "_model_name": "DescriptionStyleModel",
            "_view_count": null,
            "_view_module": "@jupyter-widgets/base",
            "_view_module_version": "1.2.0",
            "_view_name": "StyleView",
            "description_width": ""
          }
        },
        "fd2b36f0c3a9478d94d81768bdff5c2c": {
          "model_module": "@jupyter-widgets/base",
          "model_name": "LayoutModel",
          "model_module_version": "1.2.0",
          "state": {
            "_model_module": "@jupyter-widgets/base",
            "_model_module_version": "1.2.0",
            "_model_name": "LayoutModel",
            "_view_count": null,
            "_view_module": "@jupyter-widgets/base",
            "_view_module_version": "1.2.0",
            "_view_name": "LayoutView",
            "align_content": null,
            "align_items": null,
            "align_self": null,
            "border": null,
            "bottom": null,
            "display": null,
            "flex": "2",
            "flex_flow": null,
            "grid_area": null,
            "grid_auto_columns": null,
            "grid_auto_flow": null,
            "grid_auto_rows": null,
            "grid_column": null,
            "grid_gap": null,
            "grid_row": null,
            "grid_template_areas": null,
            "grid_template_columns": null,
            "grid_template_rows": null,
            "height": null,
            "justify_content": null,
            "justify_items": null,
            "left": null,
            "margin": null,
            "max_height": null,
            "max_width": null,
            "min_height": null,
            "min_width": null,
            "object_fit": null,
            "object_position": null,
            "order": null,
            "overflow": null,
            "overflow_x": null,
            "overflow_y": null,
            "padding": null,
            "right": null,
            "top": null,
            "visibility": null,
            "width": null
          }
        },
        "c900b035c1414f699a610f1fcc7f3950": {
          "model_module": "@jupyter-widgets/controls",
          "model_name": "ProgressStyleModel",
          "model_module_version": "1.5.0",
          "state": {
            "_model_module": "@jupyter-widgets/controls",
            "_model_module_version": "1.5.0",
            "_model_name": "ProgressStyleModel",
            "_view_count": null,
            "_view_module": "@jupyter-widgets/base",
            "_view_module_version": "1.2.0",
            "_view_name": "StyleView",
            "bar_color": null,
            "description_width": ""
          }
        },
        "0af84025e357405088e79f3e1b6c8b89": {
          "model_module": "@jupyter-widgets/base",
          "model_name": "LayoutModel",
          "model_module_version": "1.2.0",
          "state": {
            "_model_module": "@jupyter-widgets/base",
            "_model_module_version": "1.2.0",
            "_model_name": "LayoutModel",
            "_view_count": null,
            "_view_module": "@jupyter-widgets/base",
            "_view_module_version": "1.2.0",
            "_view_name": "LayoutView",
            "align_content": null,
            "align_items": null,
            "align_self": null,
            "border": null,
            "bottom": null,
            "display": null,
            "flex": null,
            "flex_flow": null,
            "grid_area": null,
            "grid_auto_columns": null,
            "grid_auto_flow": null,
            "grid_auto_rows": null,
            "grid_column": null,
            "grid_gap": null,
            "grid_row": null,
            "grid_template_areas": null,
            "grid_template_columns": null,
            "grid_template_rows": null,
            "height": null,
            "justify_content": null,
            "justify_items": null,
            "left": null,
            "margin": null,
            "max_height": null,
            "max_width": null,
            "min_height": null,
            "min_width": null,
            "object_fit": null,
            "object_position": null,
            "order": null,
            "overflow": null,
            "overflow_x": null,
            "overflow_y": null,
            "padding": null,
            "right": null,
            "top": null,
            "visibility": null,
            "width": null
          }
        },
        "e7d8f1eaf68049e39e8f1865268bd6d7": {
          "model_module": "@jupyter-widgets/controls",
          "model_name": "DescriptionStyleModel",
          "model_module_version": "1.5.0",
          "state": {
            "_model_module": "@jupyter-widgets/controls",
            "_model_module_version": "1.5.0",
            "_model_name": "DescriptionStyleModel",
            "_view_count": null,
            "_view_module": "@jupyter-widgets/base",
            "_view_module_version": "1.2.0",
            "_view_name": "StyleView",
            "description_width": ""
          }
        },
        "ca60b52e10844ff98e5c47f5f7fe96d8": {
          "model_module": "@jupyter-widgets/controls",
          "model_name": "HBoxModel",
          "model_module_version": "1.5.0",
          "state": {
            "_dom_classes": [],
            "_model_module": "@jupyter-widgets/controls",
            "_model_module_version": "1.5.0",
            "_model_name": "HBoxModel",
            "_view_count": null,
            "_view_module": "@jupyter-widgets/controls",
            "_view_module_version": "1.5.0",
            "_view_name": "HBoxView",
            "box_style": "",
            "children": [
              "IPY_MODEL_e9276e972f7f4caea10bd2b713e1552d",
              "IPY_MODEL_bff2cb9965464d37889fa3dede5b0303",
              "IPY_MODEL_6af5cef2ebf244eba55db6899aa650f6"
            ],
            "layout": "IPY_MODEL_924a1c386c714b50b8e688422237d12d"
          }
        },
        "e9276e972f7f4caea10bd2b713e1552d": {
          "model_module": "@jupyter-widgets/controls",
          "model_name": "HTMLModel",
          "model_module_version": "1.5.0",
          "state": {
            "_dom_classes": [],
            "_model_module": "@jupyter-widgets/controls",
            "_model_module_version": "1.5.0",
            "_model_name": "HTMLModel",
            "_view_count": null,
            "_view_module": "@jupyter-widgets/controls",
            "_view_module_version": "1.5.0",
            "_view_name": "HTMLView",
            "description": "",
            "description_tooltip": null,
            "layout": "IPY_MODEL_4d7435b99625499bb5f319f791c3d9cc",
            "placeholder": "​",
            "style": "IPY_MODEL_923d5501a4ee45c891cb502d46708b8c",
            "value": "Testing DataLoader 0: 100%"
          }
        },
        "bff2cb9965464d37889fa3dede5b0303": {
          "model_module": "@jupyter-widgets/controls",
          "model_name": "FloatProgressModel",
          "model_module_version": "1.5.0",
          "state": {
            "_dom_classes": [],
            "_model_module": "@jupyter-widgets/controls",
            "_model_module_version": "1.5.0",
            "_model_name": "FloatProgressModel",
            "_view_count": null,
            "_view_module": "@jupyter-widgets/controls",
            "_view_module_version": "1.5.0",
            "_view_name": "ProgressView",
            "bar_style": "success",
            "description": "",
            "description_tooltip": null,
            "layout": "IPY_MODEL_22721621eb634169a273b07ebfe7f428",
            "max": 1,
            "min": 0,
            "orientation": "horizontal",
            "style": "IPY_MODEL_ce20d4661b8d493ca8efd5ac57c275ca",
            "value": 1
          }
        },
        "6af5cef2ebf244eba55db6899aa650f6": {
          "model_module": "@jupyter-widgets/controls",
          "model_name": "HTMLModel",
          "model_module_version": "1.5.0",
          "state": {
            "_dom_classes": [],
            "_model_module": "@jupyter-widgets/controls",
            "_model_module_version": "1.5.0",
            "_model_name": "HTMLModel",
            "_view_count": null,
            "_view_module": "@jupyter-widgets/controls",
            "_view_module_version": "1.5.0",
            "_view_name": "HTMLView",
            "description": "",
            "description_tooltip": null,
            "layout": "IPY_MODEL_0baa1c8f18cc46dfb9a61fab81bcb37a",
            "placeholder": "​",
            "style": "IPY_MODEL_690e1d8d880f46d38b8dd296484a9391",
            "value": " 40/40 [00:20&lt;00:00,  1.98it/s]"
          }
        },
        "924a1c386c714b50b8e688422237d12d": {
          "model_module": "@jupyter-widgets/base",
          "model_name": "LayoutModel",
          "model_module_version": "1.2.0",
          "state": {
            "_model_module": "@jupyter-widgets/base",
            "_model_module_version": "1.2.0",
            "_model_name": "LayoutModel",
            "_view_count": null,
            "_view_module": "@jupyter-widgets/base",
            "_view_module_version": "1.2.0",
            "_view_name": "LayoutView",
            "align_content": null,
            "align_items": null,
            "align_self": null,
            "border": null,
            "bottom": null,
            "display": "inline-flex",
            "flex": null,
            "flex_flow": "row wrap",
            "grid_area": null,
            "grid_auto_columns": null,
            "grid_auto_flow": null,
            "grid_auto_rows": null,
            "grid_column": null,
            "grid_gap": null,
            "grid_row": null,
            "grid_template_areas": null,
            "grid_template_columns": null,
            "grid_template_rows": null,
            "height": null,
            "justify_content": null,
            "justify_items": null,
            "left": null,
            "margin": null,
            "max_height": null,
            "max_width": null,
            "min_height": null,
            "min_width": null,
            "object_fit": null,
            "object_position": null,
            "order": null,
            "overflow": null,
            "overflow_x": null,
            "overflow_y": null,
            "padding": null,
            "right": null,
            "top": null,
            "visibility": null,
            "width": "100%"
          }
        },
        "4d7435b99625499bb5f319f791c3d9cc": {
          "model_module": "@jupyter-widgets/base",
          "model_name": "LayoutModel",
          "model_module_version": "1.2.0",
          "state": {
            "_model_module": "@jupyter-widgets/base",
            "_model_module_version": "1.2.0",
            "_model_name": "LayoutModel",
            "_view_count": null,
            "_view_module": "@jupyter-widgets/base",
            "_view_module_version": "1.2.0",
            "_view_name": "LayoutView",
            "align_content": null,
            "align_items": null,
            "align_self": null,
            "border": null,
            "bottom": null,
            "display": null,
            "flex": null,
            "flex_flow": null,
            "grid_area": null,
            "grid_auto_columns": null,
            "grid_auto_flow": null,
            "grid_auto_rows": null,
            "grid_column": null,
            "grid_gap": null,
            "grid_row": null,
            "grid_template_areas": null,
            "grid_template_columns": null,
            "grid_template_rows": null,
            "height": null,
            "justify_content": null,
            "justify_items": null,
            "left": null,
            "margin": null,
            "max_height": null,
            "max_width": null,
            "min_height": null,
            "min_width": null,
            "object_fit": null,
            "object_position": null,
            "order": null,
            "overflow": null,
            "overflow_x": null,
            "overflow_y": null,
            "padding": null,
            "right": null,
            "top": null,
            "visibility": null,
            "width": null
          }
        },
        "923d5501a4ee45c891cb502d46708b8c": {
          "model_module": "@jupyter-widgets/controls",
          "model_name": "DescriptionStyleModel",
          "model_module_version": "1.5.0",
          "state": {
            "_model_module": "@jupyter-widgets/controls",
            "_model_module_version": "1.5.0",
            "_model_name": "DescriptionStyleModel",
            "_view_count": null,
            "_view_module": "@jupyter-widgets/base",
            "_view_module_version": "1.2.0",
            "_view_name": "StyleView",
            "description_width": ""
          }
        },
        "22721621eb634169a273b07ebfe7f428": {
          "model_module": "@jupyter-widgets/base",
          "model_name": "LayoutModel",
          "model_module_version": "1.2.0",
          "state": {
            "_model_module": "@jupyter-widgets/base",
            "_model_module_version": "1.2.0",
            "_model_name": "LayoutModel",
            "_view_count": null,
            "_view_module": "@jupyter-widgets/base",
            "_view_module_version": "1.2.0",
            "_view_name": "LayoutView",
            "align_content": null,
            "align_items": null,
            "align_self": null,
            "border": null,
            "bottom": null,
            "display": null,
            "flex": "2",
            "flex_flow": null,
            "grid_area": null,
            "grid_auto_columns": null,
            "grid_auto_flow": null,
            "grid_auto_rows": null,
            "grid_column": null,
            "grid_gap": null,
            "grid_row": null,
            "grid_template_areas": null,
            "grid_template_columns": null,
            "grid_template_rows": null,
            "height": null,
            "justify_content": null,
            "justify_items": null,
            "left": null,
            "margin": null,
            "max_height": null,
            "max_width": null,
            "min_height": null,
            "min_width": null,
            "object_fit": null,
            "object_position": null,
            "order": null,
            "overflow": null,
            "overflow_x": null,
            "overflow_y": null,
            "padding": null,
            "right": null,
            "top": null,
            "visibility": null,
            "width": null
          }
        },
        "ce20d4661b8d493ca8efd5ac57c275ca": {
          "model_module": "@jupyter-widgets/controls",
          "model_name": "ProgressStyleModel",
          "model_module_version": "1.5.0",
          "state": {
            "_model_module": "@jupyter-widgets/controls",
            "_model_module_version": "1.5.0",
            "_model_name": "ProgressStyleModel",
            "_view_count": null,
            "_view_module": "@jupyter-widgets/base",
            "_view_module_version": "1.2.0",
            "_view_name": "StyleView",
            "bar_color": null,
            "description_width": ""
          }
        },
        "0baa1c8f18cc46dfb9a61fab81bcb37a": {
          "model_module": "@jupyter-widgets/base",
          "model_name": "LayoutModel",
          "model_module_version": "1.2.0",
          "state": {
            "_model_module": "@jupyter-widgets/base",
            "_model_module_version": "1.2.0",
            "_model_name": "LayoutModel",
            "_view_count": null,
            "_view_module": "@jupyter-widgets/base",
            "_view_module_version": "1.2.0",
            "_view_name": "LayoutView",
            "align_content": null,
            "align_items": null,
            "align_self": null,
            "border": null,
            "bottom": null,
            "display": null,
            "flex": null,
            "flex_flow": null,
            "grid_area": null,
            "grid_auto_columns": null,
            "grid_auto_flow": null,
            "grid_auto_rows": null,
            "grid_column": null,
            "grid_gap": null,
            "grid_row": null,
            "grid_template_areas": null,
            "grid_template_columns": null,
            "grid_template_rows": null,
            "height": null,
            "justify_content": null,
            "justify_items": null,
            "left": null,
            "margin": null,
            "max_height": null,
            "max_width": null,
            "min_height": null,
            "min_width": null,
            "object_fit": null,
            "object_position": null,
            "order": null,
            "overflow": null,
            "overflow_x": null,
            "overflow_y": null,
            "padding": null,
            "right": null,
            "top": null,
            "visibility": null,
            "width": null
          }
        },
        "690e1d8d880f46d38b8dd296484a9391": {
          "model_module": "@jupyter-widgets/controls",
          "model_name": "DescriptionStyleModel",
          "model_module_version": "1.5.0",
          "state": {
            "_model_module": "@jupyter-widgets/controls",
            "_model_module_version": "1.5.0",
            "_model_name": "DescriptionStyleModel",
            "_view_count": null,
            "_view_module": "@jupyter-widgets/base",
            "_view_module_version": "1.2.0",
            "_view_name": "StyleView",
            "description_width": ""
          }
        },
        "91de11d92a30402b8aa18ab85be21671": {
          "model_module": "@jupyter-widgets/controls",
          "model_name": "HBoxModel",
          "model_module_version": "1.5.0",
          "state": {
            "_dom_classes": [],
            "_model_module": "@jupyter-widgets/controls",
            "_model_module_version": "1.5.0",
            "_model_name": "HBoxModel",
            "_view_count": null,
            "_view_module": "@jupyter-widgets/controls",
            "_view_module_version": "1.5.0",
            "_view_name": "HBoxView",
            "box_style": "",
            "children": [
              "IPY_MODEL_46085d675abf46daac5e722550f44204",
              "IPY_MODEL_dbd279f4cfdc4ec48c3fab945d082f82",
              "IPY_MODEL_46b6be0ac66643c39d6270d3cc3eee16"
            ],
            "layout": "IPY_MODEL_1829f28f4e274cd280da21dbc98674cf"
          }
        },
        "46085d675abf46daac5e722550f44204": {
          "model_module": "@jupyter-widgets/controls",
          "model_name": "HTMLModel",
          "model_module_version": "1.5.0",
          "state": {
            "_dom_classes": [],
            "_model_module": "@jupyter-widgets/controls",
            "_model_module_version": "1.5.0",
            "_model_name": "HTMLModel",
            "_view_count": null,
            "_view_module": "@jupyter-widgets/controls",
            "_view_module_version": "1.5.0",
            "_view_name": "HTMLView",
            "description": "",
            "description_tooltip": null,
            "layout": "IPY_MODEL_cce3fc5c6b5e4969a2b4ba89e5b5b239",
            "placeholder": "​",
            "style": "IPY_MODEL_6365c72b05a347d49fef8d599c19626c",
            "value": "Testing DataLoader 0:  25%"
          }
        },
        "dbd279f4cfdc4ec48c3fab945d082f82": {
          "model_module": "@jupyter-widgets/controls",
          "model_name": "FloatProgressModel",
          "model_module_version": "1.5.0",
          "state": {
            "_dom_classes": [],
            "_model_module": "@jupyter-widgets/controls",
            "_model_module_version": "1.5.0",
            "_model_name": "FloatProgressModel",
            "_view_count": null,
            "_view_module": "@jupyter-widgets/controls",
            "_view_module_version": "1.5.0",
            "_view_name": "ProgressView",
            "bar_style": "info",
            "description": "",
            "description_tooltip": null,
            "layout": "IPY_MODEL_f12329ca20144ac5af9276f1743ca58d",
            "max": 1,
            "min": 0,
            "orientation": "horizontal",
            "style": "IPY_MODEL_7a896a3c94a0463c92272ba06cd40724",
            "value": 1
          }
        },
        "46b6be0ac66643c39d6270d3cc3eee16": {
          "model_module": "@jupyter-widgets/controls",
          "model_name": "HTMLModel",
          "model_module_version": "1.5.0",
          "state": {
            "_dom_classes": [],
            "_model_module": "@jupyter-widgets/controls",
            "_model_module_version": "1.5.0",
            "_model_name": "HTMLModel",
            "_view_count": null,
            "_view_module": "@jupyter-widgets/controls",
            "_view_module_version": "1.5.0",
            "_view_name": "HTMLView",
            "description": "",
            "description_tooltip": null,
            "layout": "IPY_MODEL_89774f3f4e4246a3bddcbe64aa7178bd",
            "placeholder": "​",
            "style": "IPY_MODEL_20c882e1b7594f2c85c14960743bbc92",
            "value": " 20/79 [00:13&lt;00:40,  1.45it/s]"
          }
        },
        "1829f28f4e274cd280da21dbc98674cf": {
          "model_module": "@jupyter-widgets/base",
          "model_name": "LayoutModel",
          "model_module_version": "1.2.0",
          "state": {
            "_model_module": "@jupyter-widgets/base",
            "_model_module_version": "1.2.0",
            "_model_name": "LayoutModel",
            "_view_count": null,
            "_view_module": "@jupyter-widgets/base",
            "_view_module_version": "1.2.0",
            "_view_name": "LayoutView",
            "align_content": null,
            "align_items": null,
            "align_self": null,
            "border": null,
            "bottom": null,
            "display": "inline-flex",
            "flex": null,
            "flex_flow": "row wrap",
            "grid_area": null,
            "grid_auto_columns": null,
            "grid_auto_flow": null,
            "grid_auto_rows": null,
            "grid_column": null,
            "grid_gap": null,
            "grid_row": null,
            "grid_template_areas": null,
            "grid_template_columns": null,
            "grid_template_rows": null,
            "height": null,
            "justify_content": null,
            "justify_items": null,
            "left": null,
            "margin": null,
            "max_height": null,
            "max_width": null,
            "min_height": null,
            "min_width": null,
            "object_fit": null,
            "object_position": null,
            "order": null,
            "overflow": null,
            "overflow_x": null,
            "overflow_y": null,
            "padding": null,
            "right": null,
            "top": null,
            "visibility": null,
            "width": "100%"
          }
        },
        "cce3fc5c6b5e4969a2b4ba89e5b5b239": {
          "model_module": "@jupyter-widgets/base",
          "model_name": "LayoutModel",
          "model_module_version": "1.2.0",
          "state": {
            "_model_module": "@jupyter-widgets/base",
            "_model_module_version": "1.2.0",
            "_model_name": "LayoutModel",
            "_view_count": null,
            "_view_module": "@jupyter-widgets/base",
            "_view_module_version": "1.2.0",
            "_view_name": "LayoutView",
            "align_content": null,
            "align_items": null,
            "align_self": null,
            "border": null,
            "bottom": null,
            "display": null,
            "flex": null,
            "flex_flow": null,
            "grid_area": null,
            "grid_auto_columns": null,
            "grid_auto_flow": null,
            "grid_auto_rows": null,
            "grid_column": null,
            "grid_gap": null,
            "grid_row": null,
            "grid_template_areas": null,
            "grid_template_columns": null,
            "grid_template_rows": null,
            "height": null,
            "justify_content": null,
            "justify_items": null,
            "left": null,
            "margin": null,
            "max_height": null,
            "max_width": null,
            "min_height": null,
            "min_width": null,
            "object_fit": null,
            "object_position": null,
            "order": null,
            "overflow": null,
            "overflow_x": null,
            "overflow_y": null,
            "padding": null,
            "right": null,
            "top": null,
            "visibility": null,
            "width": null
          }
        },
        "6365c72b05a347d49fef8d599c19626c": {
          "model_module": "@jupyter-widgets/controls",
          "model_name": "DescriptionStyleModel",
          "model_module_version": "1.5.0",
          "state": {
            "_model_module": "@jupyter-widgets/controls",
            "_model_module_version": "1.5.0",
            "_model_name": "DescriptionStyleModel",
            "_view_count": null,
            "_view_module": "@jupyter-widgets/base",
            "_view_module_version": "1.2.0",
            "_view_name": "StyleView",
            "description_width": ""
          }
        },
        "f12329ca20144ac5af9276f1743ca58d": {
          "model_module": "@jupyter-widgets/base",
          "model_name": "LayoutModel",
          "model_module_version": "1.2.0",
          "state": {
            "_model_module": "@jupyter-widgets/base",
            "_model_module_version": "1.2.0",
            "_model_name": "LayoutModel",
            "_view_count": null,
            "_view_module": "@jupyter-widgets/base",
            "_view_module_version": "1.2.0",
            "_view_name": "LayoutView",
            "align_content": null,
            "align_items": null,
            "align_self": null,
            "border": null,
            "bottom": null,
            "display": null,
            "flex": "2",
            "flex_flow": null,
            "grid_area": null,
            "grid_auto_columns": null,
            "grid_auto_flow": null,
            "grid_auto_rows": null,
            "grid_column": null,
            "grid_gap": null,
            "grid_row": null,
            "grid_template_areas": null,
            "grid_template_columns": null,
            "grid_template_rows": null,
            "height": null,
            "justify_content": null,
            "justify_items": null,
            "left": null,
            "margin": null,
            "max_height": null,
            "max_width": null,
            "min_height": null,
            "min_width": null,
            "object_fit": null,
            "object_position": null,
            "order": null,
            "overflow": null,
            "overflow_x": null,
            "overflow_y": null,
            "padding": null,
            "right": null,
            "top": null,
            "visibility": null,
            "width": null
          }
        },
        "7a896a3c94a0463c92272ba06cd40724": {
          "model_module": "@jupyter-widgets/controls",
          "model_name": "ProgressStyleModel",
          "model_module_version": "1.5.0",
          "state": {
            "_model_module": "@jupyter-widgets/controls",
            "_model_module_version": "1.5.0",
            "_model_name": "ProgressStyleModel",
            "_view_count": null,
            "_view_module": "@jupyter-widgets/base",
            "_view_module_version": "1.2.0",
            "_view_name": "StyleView",
            "bar_color": null,
            "description_width": ""
          }
        },
        "89774f3f4e4246a3bddcbe64aa7178bd": {
          "model_module": "@jupyter-widgets/base",
          "model_name": "LayoutModel",
          "model_module_version": "1.2.0",
          "state": {
            "_model_module": "@jupyter-widgets/base",
            "_model_module_version": "1.2.0",
            "_model_name": "LayoutModel",
            "_view_count": null,
            "_view_module": "@jupyter-widgets/base",
            "_view_module_version": "1.2.0",
            "_view_name": "LayoutView",
            "align_content": null,
            "align_items": null,
            "align_self": null,
            "border": null,
            "bottom": null,
            "display": null,
            "flex": null,
            "flex_flow": null,
            "grid_area": null,
            "grid_auto_columns": null,
            "grid_auto_flow": null,
            "grid_auto_rows": null,
            "grid_column": null,
            "grid_gap": null,
            "grid_row": null,
            "grid_template_areas": null,
            "grid_template_columns": null,
            "grid_template_rows": null,
            "height": null,
            "justify_content": null,
            "justify_items": null,
            "left": null,
            "margin": null,
            "max_height": null,
            "max_width": null,
            "min_height": null,
            "min_width": null,
            "object_fit": null,
            "object_position": null,
            "order": null,
            "overflow": null,
            "overflow_x": null,
            "overflow_y": null,
            "padding": null,
            "right": null,
            "top": null,
            "visibility": null,
            "width": null
          }
        },
        "20c882e1b7594f2c85c14960743bbc92": {
          "model_module": "@jupyter-widgets/controls",
          "model_name": "DescriptionStyleModel",
          "model_module_version": "1.5.0",
          "state": {
            "_model_module": "@jupyter-widgets/controls",
            "_model_module_version": "1.5.0",
            "_model_name": "DescriptionStyleModel",
            "_view_count": null,
            "_view_module": "@jupyter-widgets/base",
            "_view_module_version": "1.2.0",
            "_view_name": "StyleView",
            "description_width": ""
          }
        }
      }
    }
  },
  "nbformat": 4,
  "nbformat_minor": 5
}